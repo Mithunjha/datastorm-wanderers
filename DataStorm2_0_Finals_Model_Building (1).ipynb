{
  "nbformat": 4,
  "nbformat_minor": 0,
  "metadata": {
    "accelerator": "GPU",
    "colab": {
      "name": "DataStorm2.0_Finals_Model_Building.ipynb",
      "provenance": [],
      "collapsed_sections": [
        "Y8QYGdzrsMLz",
        "SJ9fLI4PhB-F",
        "pyDUk13liskQ",
        "YYLNXH6JAFmR",
        "GQJoQ1ALFzlt",
        "jyCco_VLIODd",
        "eZyhpjSRkKP0",
        "dyUkW5lnkjZj",
        "Tz8G7CNjk90q",
        "_KibxSrOmO7g",
        "Y2FHQ8Do-IOA"
      ]
    },
    "kernelspec": {
      "display_name": "Python 3",
      "name": "python3"
    }
  },
  "cells": [
    {
      "cell_type": "markdown",
      "metadata": {
        "id": "KvcMYg7Eg7Mp"
      },
      "source": [
        "#Import Libraries"
      ]
    },
    {
      "cell_type": "markdown",
      "metadata": {
        "id": "Y8QYGdzrsMLz"
      },
      "source": [
        "##other necessary libraries"
      ]
    },
    {
      "cell_type": "code",
      "metadata": {
        "id": "vgWUBI95eR_-"
      },
      "source": [
        "import os\n",
        "import sys\n",
        "import numpy as np\n",
        "import pandas as pd\n",
        "import matplotlib.pyplot as plt\n",
        "import scipy.io\n",
        "import seaborn as sns\n",
        "from sklearn.model_selection import train_test_split\n",
        "import tensorflow as tf\n",
        "from scipy import stats \n",
        "from tensorflow.keras.models import Sequential,Model\n",
        "from tensorflow.keras.layers import Dense, Input,LSTM,Reshape,Conv2D,Flatten,Dropout,BatchNormalization, LeakyReLU, concatenate, GRU, GlobalMaxPooling1D, GlobalMaxPooling2D, Bidirectional"
      ],
      "execution_count": 128,
      "outputs": []
    },
    {
      "cell_type": "code",
      "metadata": {
        "colab": {
          "base_uri": "https://localhost:8080/"
        },
        "id": "qVw6UsLvAk8y",
        "outputId": "c66ae49f-1c8c-4ee5-e184-e205a8dc63cf"
      },
      "source": [
        "!pip install scikit-plot"
      ],
      "execution_count": 129,
      "outputs": [
        {
          "output_type": "stream",
          "text": [
            "Requirement already satisfied: scikit-plot in /usr/local/lib/python3.7/dist-packages (0.3.7)\n",
            "Requirement already satisfied: scikit-learn>=0.18 in /usr/local/lib/python3.7/dist-packages (from scikit-plot) (0.22.2.post1)\n",
            "Requirement already satisfied: scipy>=0.9 in /usr/local/lib/python3.7/dist-packages (from scikit-plot) (1.4.1)\n",
            "Requirement already satisfied: joblib>=0.10 in /usr/local/lib/python3.7/dist-packages (from scikit-plot) (1.0.1)\n",
            "Requirement already satisfied: matplotlib>=1.4.0 in /usr/local/lib/python3.7/dist-packages (from scikit-plot) (3.2.2)\n",
            "Requirement already satisfied: numpy>=1.11.0 in /usr/local/lib/python3.7/dist-packages (from scikit-learn>=0.18->scikit-plot) (1.19.5)\n",
            "Requirement already satisfied: python-dateutil>=2.1 in /usr/local/lib/python3.7/dist-packages (from matplotlib>=1.4.0->scikit-plot) (2.8.1)\n",
            "Requirement already satisfied: pyparsing!=2.0.4,!=2.1.2,!=2.1.6,>=2.0.1 in /usr/local/lib/python3.7/dist-packages (from matplotlib>=1.4.0->scikit-plot) (2.4.7)\n",
            "Requirement already satisfied: kiwisolver>=1.0.1 in /usr/local/lib/python3.7/dist-packages (from matplotlib>=1.4.0->scikit-plot) (1.3.1)\n",
            "Requirement already satisfied: cycler>=0.10 in /usr/local/lib/python3.7/dist-packages (from matplotlib>=1.4.0->scikit-plot) (0.10.0)\n",
            "Requirement already satisfied: six>=1.5 in /usr/local/lib/python3.7/dist-packages (from python-dateutil>=2.1->matplotlib>=1.4.0->scikit-plot) (1.15.0)\n"
          ],
          "name": "stdout"
        }
      ]
    },
    {
      "cell_type": "markdown",
      "metadata": {
        "id": "SJ9fLI4PhB-F"
      },
      "source": [
        "#Read Data"
      ]
    },
    {
      "cell_type": "markdown",
      "metadata": {
        "id": "pyDUk13liskQ"
      },
      "source": [
        "##Mount Drive"
      ]
    },
    {
      "cell_type": "code",
      "metadata": {
        "colab": {
          "base_uri": "https://localhost:8080/"
        },
        "id": "8tMfAusZeXlc",
        "outputId": "35468070-b1bd-489e-eb87-5b0289c67fe2"
      },
      "source": [
        "from google.colab import drive\n",
        "drive.mount('/content/drive')"
      ],
      "execution_count": 142,
      "outputs": [
        {
          "output_type": "stream",
          "text": [
            "Drive already mounted at /content/drive; to attempt to forcibly remount, call drive.mount(\"/content/drive\", force_remount=True).\n"
          ],
          "name": "stdout"
        }
      ]
    },
    {
      "cell_type": "code",
      "metadata": {
        "colab": {
          "base_uri": "https://localhost:8080/"
        },
        "id": "h73RjtZveaoz",
        "outputId": "e515e7b3-aa5c-486c-fb25-ff6dfd4224fc"
      },
      "source": [
        "cd '/content/drive/My Drive/Datastorm2.0_Final'"
      ],
      "execution_count": 143,
      "outputs": [
        {
          "output_type": "stream",
          "text": [
            "/content/drive/.shortcut-targets-by-id/1RtxekmXbmTr-Wl7EGZDMfvq-jrwL_XDt/Datastorm2.0_Final\n"
          ],
          "name": "stdout"
        }
      ]
    },
    {
      "cell_type": "code",
      "metadata": {
        "colab": {
          "base_uri": "https://localhost:8080/"
        },
        "id": "0kMFX-PPefgF",
        "outputId": "64e61289-58da-4bdd-b043-ec515c974451"
      },
      "source": [
        "!ls '/content/drive/My Drive/Datastorm2.0_Final'"
      ],
      "execution_count": 144,
      "outputs": [
        {
          "output_type": "stream",
          "text": [
            "'Data Dictionary.xlsx'\t     policy_jul_dec_19.csv\n",
            " datastorm_agent_data.csv    submission_Wanderers.csv\n",
            " datastorm_policy_data.csv   test_data_jan_jun_20.csv\n",
            " labels_jan_jun_19.csv\t     testset.csv\n",
            " labels_jul_dec_19.csv\t     train_data_jan_jun_19.csv\n",
            " policy_jan_jun_19.csv\t     train_data_jul_dec_19.csv\n",
            " policy_jan_jun_20.csv\n"
          ],
          "name": "stdout"
        }
      ]
    },
    {
      "cell_type": "markdown",
      "metadata": {
        "id": "3HrriTpoiyaD"
      },
      "source": [
        "##Data"
      ]
    },
    {
      "cell_type": "code",
      "metadata": {
        "colab": {
          "base_uri": "https://localhost:8080/"
        },
        "id": "7NolRjB3fyDJ",
        "outputId": "3af1d82a-c282-4bf9-f376-6744608779f7"
      },
      "source": [
        "train_data_1 = pd.read_csv('train_data_jan_jun_19.csv')\n",
        "print(train_data_1.head()) \n",
        "print(train_data_1.shape)\n",
        "train_data_2 = pd.read_csv('train_data_jul_dec_19.csv')\n",
        "print(train_data_2.head()) \n",
        "print(train_data_2.shape)\n",
        "\n",
        "train_labels_1 = pd.read_csv('labels_jan_jun_19.csv')\n",
        "train_labels_2 = pd.read_csv('labels_jul_dec_19.csv')\n",
        "print(train_labels_1.head())\n",
        "\n",
        "test_data = pd.read_csv('test_data_jan_jun_20.csv')\n",
        "print(test_data.head())\n",
        "print(test_data.shape) \n",
        "\n",
        "\n",
        "test = pd.read_csv('testset.csv')\n",
        "test_3 = test['map_client_cd']\n",
        "test_3 = test_3.tolist()"
      ],
      "execution_count": 145,
      "outputs": [
        {
          "output_type": "stream",
          "text": [
            "  client_code  policy_term_avg  ...  payment_method_CASH  payment_method_CHEQUE\n",
            "0     C100000             12.0  ...                    1                      1\n",
            "1     C100001             20.0  ...                    0                      1\n",
            "2     C100002             15.0  ...                    1                      0\n",
            "3     C100003             12.0  ...                    1                      1\n",
            "4     C100004             12.0  ...                    1                      0\n",
            "\n",
            "[5 rows x 21 columns]\n",
            "(24708, 21)\n",
            "  client_code  policy_term_avg  ...  payment_method_CASH  payment_method_CHEQUE\n",
            "0     C100000             12.0  ...                    0                      1\n",
            "1     C100001             20.0  ...                    0                      1\n",
            "2     C100002             15.0  ...                    1                      0\n",
            "3     C100003             12.0  ...                    0                      1\n",
            "4     C100004             12.0  ...                    1                      1\n",
            "\n",
            "[5 rows x 21 columns]\n",
            "(27663, 21)\n",
            "  client_code  cross_sell recommentation\n",
            "0     C100000           0      No_policy\n",
            "1     C100001           0      No_policy\n",
            "2     C100002           0      No_policy\n",
            "3     C100003           0      No_policy\n",
            "4     C100004           0      No_policy\n",
            "  client_code  policy_term_avg  ...  payment_method_CASH  payment_method_CHEQUE\n",
            "0     C100000             12.0  ...                    0                      1\n",
            "1     C100001             20.0  ...                    0                      1\n",
            "2     C100002             15.0  ...                    1                      0\n",
            "3     C100003             12.0  ...                    0                      1\n",
            "4     C100004             12.0  ...                    0                      1\n",
            "\n",
            "[5 rows x 21 columns]\n",
            "(29153, 21)\n"
          ],
          "name": "stdout"
        }
      ]
    },
    {
      "cell_type": "code",
      "metadata": {
        "colab": {
          "base_uri": "https://localhost:8080/"
        },
        "id": "az-QcK50y3Sx",
        "outputId": "1f26254c-28db-45f0-a29e-0ac35781b0b3"
      },
      "source": [
        "train_data = pd.concat([train_data_1, train_data_2],axis=0)\n",
        "print(train_data.shape)\n",
        "train_label = pd.concat([train_labels_1, train_labels_2],axis=0)\n",
        "print(train_label.shape)\n",
        "train_data.pop('client_code')\n",
        "train_label.pop('client_code')\n",
        "\n",
        "test_data.pop('client_code')"
      ],
      "execution_count": 146,
      "outputs": [
        {
          "output_type": "stream",
          "text": [
            "(52371, 21)\n",
            "(52371, 3)\n"
          ],
          "name": "stdout"
        },
        {
          "output_type": "execute_result",
          "data": {
            "text/plain": [
              "0        C100000\n",
              "1        C100001\n",
              "2        C100002\n",
              "3        C100003\n",
              "4        C100004\n",
              "          ...   \n",
              "29148    C154448\n",
              "29149    C154449\n",
              "29150    C154450\n",
              "29151    C154454\n",
              "29152    C154455\n",
              "Name: client_code, Length: 29153, dtype: object"
            ]
          },
          "metadata": {
            "tags": []
          },
          "execution_count": 146
        }
      ]
    },
    {
      "cell_type": "code",
      "metadata": {
        "colab": {
          "base_uri": "https://localhost:8080/",
          "height": 0
        },
        "id": "MoTyInvl7toR",
        "outputId": "b7e28059-f987-4c54-d3bd-d444f593a572"
      },
      "source": [
        "train_data.head()"
      ],
      "execution_count": 147,
      "outputs": [
        {
          "output_type": "execute_result",
          "data": {
            "text/html": [
              "<div>\n",
              "<style scoped>\n",
              "    .dataframe tbody tr th:only-of-type {\n",
              "        vertical-align: middle;\n",
              "    }\n",
              "\n",
              "    .dataframe tbody tr th {\n",
              "        vertical-align: top;\n",
              "    }\n",
              "\n",
              "    .dataframe thead th {\n",
              "        text-align: right;\n",
              "    }\n",
              "</style>\n",
              "<table border=\"1\" class=\"dataframe\">\n",
              "  <thead>\n",
              "    <tr style=\"text-align: right;\">\n",
              "      <th></th>\n",
              "      <th>policy_term_avg</th>\n",
              "      <th>Pay_mode_H</th>\n",
              "      <th>Pay_mode_M</th>\n",
              "      <th>Pay_mode_Q</th>\n",
              "      <th>Pay_mode_S</th>\n",
              "      <th>Pay_mode_Y</th>\n",
              "      <th>main_smoker</th>\n",
              "      <th>spouse_smoker</th>\n",
              "      <th>inforce_count</th>\n",
              "      <th>lapse_count</th>\n",
              "      <th>terminate_count</th>\n",
              "      <th>lap_inf_ratio</th>\n",
              "      <th>ter_inf_ratio</th>\n",
              "      <th>num_children</th>\n",
              "      <th>num_policies</th>\n",
              "      <th>num_agents</th>\n",
              "      <th>total_sum_assuared</th>\n",
              "      <th>premium_value</th>\n",
              "      <th>payment_method_CASH</th>\n",
              "      <th>payment_method_CHEQUE</th>\n",
              "    </tr>\n",
              "  </thead>\n",
              "  <tbody>\n",
              "    <tr>\n",
              "      <th>0</th>\n",
              "      <td>12.0</td>\n",
              "      <td>0</td>\n",
              "      <td>1</td>\n",
              "      <td>0</td>\n",
              "      <td>0</td>\n",
              "      <td>0</td>\n",
              "      <td>0</td>\n",
              "      <td>0</td>\n",
              "      <td>4</td>\n",
              "      <td>2</td>\n",
              "      <td>0</td>\n",
              "      <td>0.5</td>\n",
              "      <td>0.0</td>\n",
              "      <td>5</td>\n",
              "      <td>1</td>\n",
              "      <td>2</td>\n",
              "      <td>275000.0</td>\n",
              "      <td>60144.0</td>\n",
              "      <td>1</td>\n",
              "      <td>1</td>\n",
              "    </tr>\n",
              "    <tr>\n",
              "      <th>1</th>\n",
              "      <td>20.0</td>\n",
              "      <td>0</td>\n",
              "      <td>1</td>\n",
              "      <td>0</td>\n",
              "      <td>0</td>\n",
              "      <td>0</td>\n",
              "      <td>0</td>\n",
              "      <td>0</td>\n",
              "      <td>6</td>\n",
              "      <td>0</td>\n",
              "      <td>0</td>\n",
              "      <td>0.0</td>\n",
              "      <td>0.0</td>\n",
              "      <td>5</td>\n",
              "      <td>1</td>\n",
              "      <td>1</td>\n",
              "      <td>670000.0</td>\n",
              "      <td>36264.0</td>\n",
              "      <td>0</td>\n",
              "      <td>1</td>\n",
              "    </tr>\n",
              "    <tr>\n",
              "      <th>2</th>\n",
              "      <td>15.0</td>\n",
              "      <td>0</td>\n",
              "      <td>0</td>\n",
              "      <td>0</td>\n",
              "      <td>0</td>\n",
              "      <td>1</td>\n",
              "      <td>0</td>\n",
              "      <td>0</td>\n",
              "      <td>6</td>\n",
              "      <td>0</td>\n",
              "      <td>0</td>\n",
              "      <td>0.0</td>\n",
              "      <td>0.0</td>\n",
              "      <td>5</td>\n",
              "      <td>1</td>\n",
              "      <td>1</td>\n",
              "      <td>225000.0</td>\n",
              "      <td>15050.0</td>\n",
              "      <td>1</td>\n",
              "      <td>0</td>\n",
              "    </tr>\n",
              "    <tr>\n",
              "      <th>3</th>\n",
              "      <td>12.0</td>\n",
              "      <td>1</td>\n",
              "      <td>0</td>\n",
              "      <td>0</td>\n",
              "      <td>0</td>\n",
              "      <td>0</td>\n",
              "      <td>0</td>\n",
              "      <td>0</td>\n",
              "      <td>6</td>\n",
              "      <td>0</td>\n",
              "      <td>0</td>\n",
              "      <td>0.0</td>\n",
              "      <td>0.0</td>\n",
              "      <td>5</td>\n",
              "      <td>1</td>\n",
              "      <td>1</td>\n",
              "      <td>300000.0</td>\n",
              "      <td>62464.0</td>\n",
              "      <td>1</td>\n",
              "      <td>1</td>\n",
              "    </tr>\n",
              "    <tr>\n",
              "      <th>4</th>\n",
              "      <td>12.0</td>\n",
              "      <td>0</td>\n",
              "      <td>0</td>\n",
              "      <td>0</td>\n",
              "      <td>0</td>\n",
              "      <td>1</td>\n",
              "      <td>0</td>\n",
              "      <td>0</td>\n",
              "      <td>6</td>\n",
              "      <td>0</td>\n",
              "      <td>0</td>\n",
              "      <td>0.0</td>\n",
              "      <td>0.0</td>\n",
              "      <td>5</td>\n",
              "      <td>1</td>\n",
              "      <td>1</td>\n",
              "      <td>500000.0</td>\n",
              "      <td>100050.0</td>\n",
              "      <td>1</td>\n",
              "      <td>0</td>\n",
              "    </tr>\n",
              "  </tbody>\n",
              "</table>\n",
              "</div>"
            ],
            "text/plain": [
              "   policy_term_avg  Pay_mode_H  ...  payment_method_CASH  payment_method_CHEQUE\n",
              "0             12.0           0  ...                    1                      1\n",
              "1             20.0           0  ...                    0                      1\n",
              "2             15.0           0  ...                    1                      0\n",
              "3             12.0           1  ...                    1                      1\n",
              "4             12.0           0  ...                    1                      0\n",
              "\n",
              "[5 rows x 20 columns]"
            ]
          },
          "metadata": {
            "tags": []
          },
          "execution_count": 147
        }
      ]
    },
    {
      "cell_type": "code",
      "metadata": {
        "id": "MlEJUeE-0wA5"
      },
      "source": [
        "from sklearn.model_selection import train_test_split\n",
        "train_data, val_data, train_label, val_label = train_test_split(train_data, train_label, test_size=0.33, random_state=42)\n",
        "train_recom = train_label.pop('recommentation')\n",
        "val_recom = val_label.pop('recommentation')"
      ],
      "execution_count": 148,
      "outputs": []
    },
    {
      "cell_type": "markdown",
      "metadata": {
        "id": "a7DH4R1Y_JkX"
      },
      "source": [
        "#Model Building"
      ]
    },
    {
      "cell_type": "code",
      "metadata": {
        "id": "5GBW17Hj_Li5"
      },
      "source": [
        "from sklearn.model_selection import train_test_split\n",
        "from sklearn.tree import DecisionTreeClassifier\n",
        "from sklearn.metrics import accuracy_score, confusion_matrix, f1_score, roc_auc_score, classification_report, plot_confusion_matrix, precision_score, recall_score\n",
        "from sklearn import tree, svm\n",
        "from sklearn.ensemble import RandomForestClassifier\n",
        "import xgboost\n",
        "from sklearn.linear_model import LogisticRegression\n",
        "from sklearn.neighbors import NearestNeighbors,KNeighborsClassifier"
      ],
      "execution_count": 96,
      "outputs": []
    },
    {
      "cell_type": "code",
      "metadata": {
        "colab": {
          "base_uri": "https://localhost:8080/"
        },
        "id": "_UWOLaqAWoyr",
        "outputId": "c3bf0c08-1f96-4f7c-eae0-3c9c7297a4ea"
      },
      "source": [
        "\n",
        "print(train_data.shape)\n",
        "print(train_label.shape)\n",
        "print(val_data.shape)\n",
        "print(test_data.shape)"
      ],
      "execution_count": 149,
      "outputs": [
        {
          "output_type": "stream",
          "text": [
            "(35088, 20)\n",
            "(35088, 1)\n",
            "(17283, 20)\n",
            "(29153, 20)\n"
          ],
          "name": "stdout"
        }
      ]
    },
    {
      "cell_type": "markdown",
      "metadata": {
        "id": "YYLNXH6JAFmR"
      },
      "source": [
        "##logistic regression approach"
      ]
    },
    {
      "cell_type": "code",
      "metadata": {
        "id": "7n-apf4__XlR"
      },
      "source": [
        "model= LogisticRegression(multi_class='multinomial', solver='saga',max_iter=100) \n",
        "model.fit(train_data,train_label) \n",
        "y_predict=model.predict(val_data)\n",
        "print(\"Train accuracy : \"+str(model.score(train_data,train_label)))\n",
        "print(\"Validation accuracy : \"+str(model.score(val_data,val_label)))\n",
        "print(\"Precision : \"+str(precision_score(val_label,y_predict,average='macro', zero_division=0)))\n",
        "print(\"Recall : \"+str(recall_score(val_label,y_predict,average='macro', zero_division=0)))\n",
        "print(\"F1-Score : \"+str(f1_score(val_label,y_predict,average='macro', zero_division=0)))\n",
        "print(\"Classification Report\")\n",
        "print(classification_report(val_label,y_predict,zero_division=0))\n",
        "print(\"Confusion Matrix\")\n",
        "print(confusion_matrix(val_label,y_predict))\n",
        "#fig, ax = plt.subplots()\n",
        "#plot_confusion_matrix(val_label, y_predict, ax=ax)\n",
        "\n",
        "\n",
        "#neptune.log_metric('Training Accuracy', model.score(train_data,train_label))\n",
        "#neptune.log_metric('Validation Accuracy', model.score(val_data,val_label))\n",
        "#neptune.log_metric('Precision',precision_score(val_label,y_predict,average='macro', zero_division=0))\n",
        "#neptune.log_metric('Recall', recall_score(val_label,y_predict,average='macro', zero_division=0))\n",
        "#neptune.log_metric('F1-Score',f1_score(val_label,y_predict,average='macro', zero_division=0))"
      ],
      "execution_count": null,
      "outputs": []
    },
    {
      "cell_type": "markdown",
      "metadata": {
        "id": "GQJoQ1ALFzlt"
      },
      "source": [
        "##Decision Tree Classifier model approach"
      ]
    },
    {
      "cell_type": "code",
      "metadata": {
        "colab": {
          "base_uri": "https://localhost:8080/"
        },
        "id": "zVZ5EWioAjgq",
        "outputId": "4547bc3e-55e2-473c-a220-4867f3e309bc"
      },
      "source": [
        "#model = DecisionTreeClassifier(max_depth=20, class_weight = 'balanced' ).fit(train_data,train_label)\n",
        "#model = DecisionTreeClassifier( max_depth = 20, class_weight = 'balanced', max_features = 'log2', random_state = 8  ).fit(train_data,train_label) #hypertuned for all features\n",
        "#model = DecisionTreeClassifier( max_depth = 21, class_weight = 'balanced', max_features = 'log2', random_state = 31  ).fit(train_data,train_label) #hypertuned for 28 features\n",
        "\n",
        "model = DecisionTreeClassifier(max_depth = None, min_samples_split=17, class_weight = 'balanced', max_features = 'log2', random_state = 29  ).fit(train_data,train_label) #hypertuned for 28 features without max depth\n",
        "#model = DecisionTreeClassifier( max_depth = 21, class_weight = 'balanced', max_features = 'log2', random_state = 11  ).fit(train_data,train_label) #hypertuned for 10 features\n",
        " \n",
        "\n",
        "y_predict=model.predict(val_data)\n",
        "print(\"Train accuracy : \"+str(model.score(train_data,train_label)))\n",
        "print(\"Validation accuracy : \"+str(model.score(val_data,val_label)))\n",
        "print(\"Precision : \"+str(precision_score(val_label,y_predict,average='macro', zero_division=0)))\n",
        "print(\"Recall : \"+str(recall_score(val_label,y_predict,average='macro', zero_division=0)))\n",
        "print(\"F1-Score : \"+str(f1_score(val_label,y_predict,average='macro', zero_division=0)))\n",
        "print(\"Classification Report\")\n",
        "print(classification_report(val_label,y_predict,zero_division=0))\n",
        "print(\"Confusion Matrix\")\n",
        "print(confusion_matrix(val_label,y_predict))\n",
        "#fig, ax = plt.subplots()\n",
        "#plot_confusion_matrix(val_label, y_predict, ax=ax)\n",
        "\n",
        "\n",
        "#neptune.log_metric('Training Accuracy', model.score(train_data,train_label))\n",
        "#neptune.log_metric('Validation Accuracy', model.score(val_data,val_label))\n",
        "#neptune.log_metric('Precision',precision_score(val_label,y_predict,average='macro', zero_division=0))\n",
        "#neptune.log_metric('Recall', recall_score(val_label,y_predict,average='macro', zero_division=0))\n",
        "#neptune.log_metric('F1-Score',f1_score(val_label,y_predict,average='macro', zero_division=0))"
      ],
      "execution_count": 37,
      "outputs": [
        {
          "output_type": "stream",
          "text": [
            "Train accuracy : 0.8764819881440948\n",
            "Validation accuracy : 0.835792397153272\n",
            "Precision : 0.5120742364906252\n",
            "Recall : 0.5541258960542866\n",
            "F1-Score : 0.4965761042262472\n",
            "Classification Report\n",
            "              precision    recall  f1-score   support\n",
            "\n",
            "           0       0.97      0.85      0.91     16777\n",
            "           1       0.05      0.25      0.08       506\n",
            "\n",
            "    accuracy                           0.84     17283\n",
            "   macro avg       0.51      0.55      0.50     17283\n",
            "weighted avg       0.95      0.84      0.89     17283\n",
            "\n",
            "Confusion Matrix\n",
            "[[14316  2461]\n",
            " [  377   129]]\n"
          ],
          "name": "stdout"
        }
      ]
    },
    {
      "cell_type": "code",
      "metadata": {
        "colab": {
          "base_uri": "https://localhost:8080/",
          "height": 680
        },
        "id": "nXmmtS8drHj0",
        "outputId": "220383ab-b8c3-4443-807a-986a8cfe85f7"
      },
      "source": [
        "# Plot non-normalized confusion matrix\n",
        "titles_options = [(\"Confusion matrix, without normalization\", None),\n",
        "                  (\"Normalized confusion matrix\", 'true')]\n",
        "class_names = [\"Check-In\", \"Canceled\", \"No-Show\"]\n",
        "for title, normalize in titles_options:\n",
        "    disp = plot_confusion_matrix(model, val_data, val_label,\n",
        "                                 display_labels=class_names,\n",
        "                                 cmap=plt.cm.Blues,\n",
        "                                 normalize=normalize)\n",
        "    disp.ax_.set_title(title)\n",
        "\n",
        "    print(title)\n",
        "    print(disp.confusion_matrix)"
      ],
      "execution_count": 38,
      "outputs": [
        {
          "output_type": "stream",
          "text": [
            "Confusion matrix, without normalization\n",
            "[[14316  2461]\n",
            " [  377   129]]\n",
            "Normalized confusion matrix\n",
            "[[0.85331108 0.14668892]\n",
            " [0.74505929 0.25494071]]\n"
          ],
          "name": "stdout"
        },
        {
          "output_type": "display_data",
          "data": {
            "image/png": "[encoded data removed]",
            "text/plain": [
              "<Figure size 432x288 with 2 Axes>"
            ]
          },
          "metadata": {
            "tags": [],
            "needs_background": "light"
          }
        },
        {
          "output_type": "display_data",
          "data": {
            "image/png": "[encoded data removed]",
            "text/plain": [
              "<Figure size 432x288 with 2 Axes>"
            ]
          },
          "metadata": {
            "tags": [],
            "needs_background": "light"
          }
        }
      ]
    },
    {
      "cell_type": "code",
      "metadata": {
        "colab": {
          "base_uri": "https://localhost:8080/",
          "height": 736
        },
        "id": "rksmHrHxrHcc",
        "outputId": "5b691f2f-95ee-4eda-f221-efabe7e8ac66"
      },
      "source": [
        "#Feature Importance in Decision Tree Classifier\n",
        "print(\"Feature Importance\")\n",
        "print(model.feature_importances_) #use inbuilt class feature_importances of tree based classifiers\n",
        "#plot graph of feature importances for better visualization\n",
        "plt.figure(figsize=[10,10])\n",
        "feat_importances = pd.Series(model.feature_importances_, index=train_data.columns)\n",
        "feat_importances.nlargest(47).plot(kind='barh')\n",
        "\n",
        "plt.show()\n",
        "#print(feat_importances)\n",
        "results=pd.DataFrame()\n",
        "results['columns']=train_data.columns\n",
        "results['importances'] = model.feature_importances_\n",
        "results.sort_values(by='importances',ascending=False,inplace=True)\n",
        "\n",
        "results[:44]\n",
        "selected_features = results['columns'][:28].tolist()\n",
        "print(selected_features)\n",
        "print(len(selected_features))"
      ],
      "execution_count": 39,
      "outputs": [
        {
          "output_type": "stream",
          "text": [
            "Feature Importance\n",
            "[0.12265602 0.01250049 0.01264814 0.00921889 0.00502762 0.01470026\n",
            " 0.01954931 0.00091623 0.11226087 0.06421932 0.         0.11210158\n",
            " 0.         0.         0.02927694 0.01741779 0.19615892 0.25531843\n",
            " 0.00402558 0.01200361]\n"
          ],
          "name": "stdout"
        },
        {
          "output_type": "display_data",
          "data": {
            "image/png": "[encoded data removed]",
            "text/plain": [
              "<Figure size 720x720 with 1 Axes>"
            ]
          },
          "metadata": {
            "tags": [],
            "needs_background": "light"
          }
        },
        {
          "output_type": "stream",
          "text": [
            "['premium_value', 'total_sum_assuared', 'policy_term_avg', 'inforce_count', 'lap_inf_ratio', 'lapse_count', 'num_policies', 'main_smoker', 'num_agents', 'Pay_mode_Y', 'Pay_mode_M', 'Pay_mode_H', 'payment_method_CHEQUE', 'Pay_mode_Q', 'Pay_mode_S', 'payment_method_CASH', 'spouse_smoker', 'num_children', 'ter_inf_ratio', 'terminate_count']\n",
            "20\n"
          ],
          "name": "stdout"
        }
      ]
    },
    {
      "cell_type": "markdown",
      "metadata": {
        "id": "jyCco_VLIODd"
      },
      "source": [
        "##XGB Boost Approach"
      ]
    },
    {
      "cell_type": "code",
      "metadata": {
        "colab": {
          "base_uri": "https://localhost:8080/",
          "height": 532
        },
        "id": "4i3SWgo-GCQi",
        "outputId": "513ff4ac-1a82-42fa-9a2b-b654a65c349e"
      },
      "source": [
        "clf = DecisionTreeClassifier(max_depth=50, class_weight = 'balanced')\n",
        "#clf = DecisionTreeClassifier( max_depth = 50, class_weight = 'balanced', max_features = 'log2', random_state = 8  )\n",
        "#model=xgboost.XGBClassifier(base_estimator=clf,max_depth=20,n_estimators=15,objective='multi:softmax',gamma=4.63,learning_rate=0.2,reg_lambda=1).fit(train_data,train_label) # day 2 second submission model\n",
        "model=xgboost.XGBClassifier(base_estimator = clf, max_depth = 22, n_estimators = 15, objective = 'multi:softmax', gamma = 4.5, learning_rate = 0.05, reg_lambda = 3.4).fit(train_data,train_label)    #hypertuned model\n",
        "#model=xgboost.XGBClassifier(base_estimator = clf, max_depth = 19, n_estimators = 15, objective = 'multi:softmax', gamma = 4.5, learning_rate = 0.24, reg_lambda = 3.4).fit(train_data,train_label)    #hypertuned model\n",
        "\n",
        "y_predict=model.predict(val_data)\n",
        "print(\"Train accuracy : \"+str(model.score(train_data,train_label)))\n",
        "print(\"Validation accuracy : \"+str(model.score(val_data,val_label)))\n",
        "print(\"Precision : \"+str(precision_score(val_label,y_predict,average='macro', zero_division=0)))\n",
        "print(\"Recall : \"+str(recall_score(val_label,y_predict,average='macro', zero_division=0)))\n",
        "print(\"F1-Score : \"+str(f1_score(val_label,y_predict,average='macro', zero_division=0)))\n",
        "print(\"Classification Report\")\n",
        "print(classification_report(val_label,y_predict,zero_division=0))\n",
        "print(\"Confusion Matrix\")\n",
        "print(confusion_matrix(val_label,y_predict))\n",
        "#fig, ax = plt.subplots()\n",
        "#plot_confusion_matrix(val_label, y_predict, ax=ax)\n",
        "\n",
        "\n",
        "#neptune.log_metric('Training Accuracy', model.score(train_data,train_label))\n",
        "#neptune.log_metric('Validation Accuracy', model.score(val_data,val_label))\n",
        "#neptune.log_metric('Precision',precision_score(val_label,y_predict,average='macro', zero_division=0))\n",
        "#neptune.log_metric('Recall', recall_score(val_label,y_predict,average='macro', zero_division=0))\n",
        "#neptune.log_metric('F1-Score',f1_score(val_label,y_predict,average='macro', zero_division=0))"
      ],
      "execution_count": 46,
      "outputs": [
        {
          "output_type": "stream",
          "text": [
            "/usr/local/lib/python3.7/dist-packages/sklearn/preprocessing/_label.py:235: DataConversionWarning: A column-vector y was passed when a 1d array was expected. Please change the shape of y to (n_samples, ), for example using ravel().\n",
            "  y = column_or_1d(y, warn=True)\n",
            "/usr/local/lib/python3.7/dist-packages/sklearn/preprocessing/_label.py:268: DataConversionWarning: A column-vector y was passed when a 1d array was expected. Please change the shape of y to (n_samples, ), for example using ravel().\n",
            "  y = column_or_1d(y, warn=True)\n"
          ],
          "name": "stderr"
        },
        {
          "output_type": "error",
          "ename": "XGBoostError",
          "evalue": "ignored",
          "traceback": [
            "\u001b[0;31m---------------------------------------------------------------------------\u001b[0m",
            "\u001b[0;31mXGBoostError\u001b[0m                              Traceback (most recent call last)",
            "\u001b[0;32m<ipython-input-46-592ae04dbf0e>\u001b[0m in \u001b[0;36m<module>\u001b[0;34m()\u001b[0m\n\u001b[1;32m      2\u001b[0m \u001b[0;31m#clf = DecisionTreeClassifier( max_depth = 50, class_weight = 'balanced', max_features = 'log2', random_state = 8  )\u001b[0m\u001b[0;34m\u001b[0m\u001b[0;34m\u001b[0m\u001b[0;34m\u001b[0m\u001b[0m\n\u001b[1;32m      3\u001b[0m \u001b[0;31m#model=xgboost.XGBClassifier(base_estimator=clf,max_depth=20,n_estimators=15,objective='multi:softmax',gamma=4.63,learning_rate=0.2,reg_lambda=1).fit(train_data,train_label) # day 2 second submission model\u001b[0m\u001b[0;34m\u001b[0m\u001b[0;34m\u001b[0m\u001b[0;34m\u001b[0m\u001b[0m\n\u001b[0;32m----> 4\u001b[0;31m \u001b[0mmodel\u001b[0m\u001b[0;34m=\u001b[0m\u001b[0mxgboost\u001b[0m\u001b[0;34m.\u001b[0m\u001b[0mXGBClassifier\u001b[0m\u001b[0;34m(\u001b[0m\u001b[0mbase_estimator\u001b[0m \u001b[0;34m=\u001b[0m \u001b[0mclf\u001b[0m\u001b[0;34m,\u001b[0m \u001b[0mmax_depth\u001b[0m \u001b[0;34m=\u001b[0m \u001b[0;36m22\u001b[0m\u001b[0;34m,\u001b[0m \u001b[0mn_estimators\u001b[0m \u001b[0;34m=\u001b[0m \u001b[0;36m15\u001b[0m\u001b[0;34m,\u001b[0m \u001b[0mobjective\u001b[0m \u001b[0;34m=\u001b[0m \u001b[0;34m'multi:softmax'\u001b[0m\u001b[0;34m,\u001b[0m \u001b[0mgamma\u001b[0m \u001b[0;34m=\u001b[0m \u001b[0;36m4.5\u001b[0m\u001b[0;34m,\u001b[0m \u001b[0mlearning_rate\u001b[0m \u001b[0;34m=\u001b[0m \u001b[0;36m0.05\u001b[0m\u001b[0;34m,\u001b[0m \u001b[0mreg_lambda\u001b[0m \u001b[0;34m=\u001b[0m \u001b[0;36m3.4\u001b[0m\u001b[0;34m)\u001b[0m\u001b[0;34m.\u001b[0m\u001b[0mfit\u001b[0m\u001b[0;34m(\u001b[0m\u001b[0mtrain_data\u001b[0m\u001b[0;34m,\u001b[0m\u001b[0mtrain_label\u001b[0m\u001b[0;34m)\u001b[0m    \u001b[0;31m#hypertuned model\u001b[0m\u001b[0;34m\u001b[0m\u001b[0;34m\u001b[0m\u001b[0m\n\u001b[0m\u001b[1;32m      5\u001b[0m \u001b[0;31m#model=xgboost.XGBClassifier(base_estimator = clf, max_depth = 19, n_estimators = 15, objective = 'multi:softmax', gamma = 4.5, learning_rate = 0.24, reg_lambda = 3.4).fit(train_data,train_label)    #hypertuned model\u001b[0m\u001b[0;34m\u001b[0m\u001b[0;34m\u001b[0m\u001b[0;34m\u001b[0m\u001b[0m\n\u001b[1;32m      6\u001b[0m \u001b[0;34m\u001b[0m\u001b[0m\n",
            "\u001b[0;32m/usr/local/lib/python3.7/dist-packages/xgboost/sklearn.py\u001b[0m in \u001b[0;36mfit\u001b[0;34m(self, X, y, sample_weight, eval_set, eval_metric, early_stopping_rounds, verbose, xgb_model, sample_weight_eval_set, callbacks)\u001b[0m\n\u001b[1;32m    730\u001b[0m                               \u001b[0mevals_result\u001b[0m\u001b[0;34m=\u001b[0m\u001b[0mevals_result\u001b[0m\u001b[0;34m,\u001b[0m \u001b[0mobj\u001b[0m\u001b[0;34m=\u001b[0m\u001b[0mobj\u001b[0m\u001b[0;34m,\u001b[0m \u001b[0mfeval\u001b[0m\u001b[0;34m=\u001b[0m\u001b[0mfeval\u001b[0m\u001b[0;34m,\u001b[0m\u001b[0;34m\u001b[0m\u001b[0;34m\u001b[0m\u001b[0m\n\u001b[1;32m    731\u001b[0m                               \u001b[0mverbose_eval\u001b[0m\u001b[0;34m=\u001b[0m\u001b[0mverbose\u001b[0m\u001b[0;34m,\u001b[0m \u001b[0mxgb_model\u001b[0m\u001b[0;34m=\u001b[0m\u001b[0mxgb_model\u001b[0m\u001b[0;34m,\u001b[0m\u001b[0;34m\u001b[0m\u001b[0;34m\u001b[0m\u001b[0m\n\u001b[0;32m--> 732\u001b[0;31m                               callbacks=callbacks)\n\u001b[0m\u001b[1;32m    733\u001b[0m \u001b[0;34m\u001b[0m\u001b[0m\n\u001b[1;32m    734\u001b[0m         \u001b[0mself\u001b[0m\u001b[0;34m.\u001b[0m\u001b[0mobjective\u001b[0m \u001b[0;34m=\u001b[0m \u001b[0mxgb_options\u001b[0m\u001b[0;34m[\u001b[0m\u001b[0;34m\"objective\"\u001b[0m\u001b[0;34m]\u001b[0m\u001b[0;34m\u001b[0m\u001b[0;34m\u001b[0m\u001b[0m\n",
            "\u001b[0;32m/usr/local/lib/python3.7/dist-packages/xgboost/training.py\u001b[0m in \u001b[0;36mtrain\u001b[0;34m(params, dtrain, num_boost_round, evals, obj, feval, maximize, early_stopping_rounds, evals_result, verbose_eval, xgb_model, callbacks, learning_rates)\u001b[0m\n\u001b[1;32m    214\u001b[0m                            \u001b[0mevals\u001b[0m\u001b[0;34m=\u001b[0m\u001b[0mevals\u001b[0m\u001b[0;34m,\u001b[0m\u001b[0;34m\u001b[0m\u001b[0;34m\u001b[0m\u001b[0m\n\u001b[1;32m    215\u001b[0m                            \u001b[0mobj\u001b[0m\u001b[0;34m=\u001b[0m\u001b[0mobj\u001b[0m\u001b[0;34m,\u001b[0m \u001b[0mfeval\u001b[0m\u001b[0;34m=\u001b[0m\u001b[0mfeval\u001b[0m\u001b[0;34m,\u001b[0m\u001b[0;34m\u001b[0m\u001b[0;34m\u001b[0m\u001b[0m\n\u001b[0;32m--> 216\u001b[0;31m                            xgb_model=xgb_model, callbacks=callbacks)\n\u001b[0m\u001b[1;32m    217\u001b[0m \u001b[0;34m\u001b[0m\u001b[0m\n\u001b[1;32m    218\u001b[0m \u001b[0;34m\u001b[0m\u001b[0m\n",
            "\u001b[0;32m/usr/local/lib/python3.7/dist-packages/xgboost/training.py\u001b[0m in \u001b[0;36m_train_internal\u001b[0;34m(params, dtrain, num_boost_round, evals, obj, feval, xgb_model, callbacks)\u001b[0m\n\u001b[1;32m     72\u001b[0m         \u001b[0;31m# Skip the first update if it is a recovery step.\u001b[0m\u001b[0;34m\u001b[0m\u001b[0;34m\u001b[0m\u001b[0;34m\u001b[0m\u001b[0m\n\u001b[1;32m     73\u001b[0m         \u001b[0;32mif\u001b[0m \u001b[0mversion\u001b[0m \u001b[0;34m%\u001b[0m \u001b[0;36m2\u001b[0m \u001b[0;34m==\u001b[0m \u001b[0;36m0\u001b[0m\u001b[0;34m:\u001b[0m\u001b[0;34m\u001b[0m\u001b[0;34m\u001b[0m\u001b[0m\n\u001b[0;32m---> 74\u001b[0;31m             \u001b[0mbst\u001b[0m\u001b[0;34m.\u001b[0m\u001b[0mupdate\u001b[0m\u001b[0;34m(\u001b[0m\u001b[0mdtrain\u001b[0m\u001b[0;34m,\u001b[0m \u001b[0mi\u001b[0m\u001b[0;34m,\u001b[0m \u001b[0mobj\u001b[0m\u001b[0;34m)\u001b[0m\u001b[0;34m\u001b[0m\u001b[0;34m\u001b[0m\u001b[0m\n\u001b[0m\u001b[1;32m     75\u001b[0m             \u001b[0mbst\u001b[0m\u001b[0;34m.\u001b[0m\u001b[0msave_rabit_checkpoint\u001b[0m\u001b[0;34m(\u001b[0m\u001b[0;34m)\u001b[0m\u001b[0;34m\u001b[0m\u001b[0;34m\u001b[0m\u001b[0m\n\u001b[1;32m     76\u001b[0m             \u001b[0mversion\u001b[0m \u001b[0;34m+=\u001b[0m \u001b[0;36m1\u001b[0m\u001b[0;34m\u001b[0m\u001b[0;34m\u001b[0m\u001b[0m\n",
            "\u001b[0;32m/usr/local/lib/python3.7/dist-packages/xgboost/core.py\u001b[0m in \u001b[0;36mupdate\u001b[0;34m(self, dtrain, iteration, fobj)\u001b[0m\n\u001b[1;32m   1107\u001b[0m         \u001b[0;32mif\u001b[0m \u001b[0mfobj\u001b[0m \u001b[0;32mis\u001b[0m \u001b[0;32mNone\u001b[0m\u001b[0;34m:\u001b[0m\u001b[0;34m\u001b[0m\u001b[0;34m\u001b[0m\u001b[0m\n\u001b[1;32m   1108\u001b[0m             _check_call(_LIB.XGBoosterUpdateOneIter(self.handle, ctypes.c_int(iteration),\n\u001b[0;32m-> 1109\u001b[0;31m                                                     dtrain.handle))\n\u001b[0m\u001b[1;32m   1110\u001b[0m         \u001b[0;32melse\u001b[0m\u001b[0;34m:\u001b[0m\u001b[0;34m\u001b[0m\u001b[0;34m\u001b[0m\u001b[0m\n\u001b[1;32m   1111\u001b[0m             \u001b[0mpred\u001b[0m \u001b[0;34m=\u001b[0m \u001b[0mself\u001b[0m\u001b[0;34m.\u001b[0m\u001b[0mpredict\u001b[0m\u001b[0;34m(\u001b[0m\u001b[0mdtrain\u001b[0m\u001b[0;34m)\u001b[0m\u001b[0;34m\u001b[0m\u001b[0;34m\u001b[0m\u001b[0m\n",
            "\u001b[0;32m/usr/local/lib/python3.7/dist-packages/xgboost/core.py\u001b[0m in \u001b[0;36m_check_call\u001b[0;34m(ret)\u001b[0m\n\u001b[1;32m    174\u001b[0m     \"\"\"\n\u001b[1;32m    175\u001b[0m     \u001b[0;32mif\u001b[0m \u001b[0mret\u001b[0m \u001b[0;34m!=\u001b[0m \u001b[0;36m0\u001b[0m\u001b[0;34m:\u001b[0m\u001b[0;34m\u001b[0m\u001b[0;34m\u001b[0m\u001b[0m\n\u001b[0;32m--> 176\u001b[0;31m         \u001b[0;32mraise\u001b[0m \u001b[0mXGBoostError\u001b[0m\u001b[0;34m(\u001b[0m\u001b[0mpy_str\u001b[0m\u001b[0;34m(\u001b[0m\u001b[0m_LIB\u001b[0m\u001b[0;34m.\u001b[0m\u001b[0mXGBGetLastError\u001b[0m\u001b[0;34m(\u001b[0m\u001b[0;34m)\u001b[0m\u001b[0;34m)\u001b[0m\u001b[0;34m)\u001b[0m\u001b[0;34m\u001b[0m\u001b[0;34m\u001b[0m\u001b[0m\n\u001b[0m\u001b[1;32m    177\u001b[0m \u001b[0;34m\u001b[0m\u001b[0m\n\u001b[1;32m    178\u001b[0m \u001b[0;34m\u001b[0m\u001b[0m\n",
            "\u001b[0;31mXGBoostError\u001b[0m: value 0 for Parameter num_class should be greater equal to 1"
          ]
        }
      ]
    },
    {
      "cell_type": "code",
      "metadata": {
        "colab": {
          "base_uri": "https://localhost:8080/",
          "height": 680
        },
        "id": "Dgv9UNq7SJYB",
        "outputId": "23305797-5ef6-4b74-f1d2-e21a127a0108"
      },
      "source": [
        "# Plot non-normalized confusion matrix\n",
        "titles_options = [(\"Confusion matrix, without normalization\", None),\n",
        "                  (\"Normalized confusion matrix\", 'true')]\n",
        "class_names = [\"Check-In\", \"Canceled\", \"No-Show\"]\n",
        "for title, normalize in titles_options:\n",
        "    disp = plot_confusion_matrix(model, val_data, val_label,\n",
        "                                 display_labels=class_names,\n",
        "                                 cmap=plt.cm.Blues,\n",
        "                                 normalize=normalize)\n",
        "    disp.ax_.set_title(title)\n",
        "\n",
        "    print(title)\n",
        "    print(disp.confusion_matrix)\n"
      ],
      "execution_count": 41,
      "outputs": [
        {
          "output_type": "stream",
          "text": [
            "Confusion matrix, without normalization\n",
            "[[14316  2461]\n",
            " [  377   129]]\n",
            "Normalized confusion matrix\n",
            "[[0.85331108 0.14668892]\n",
            " [0.74505929 0.25494071]]\n"
          ],
          "name": "stdout"
        },
        {
          "output_type": "display_data",
          "data": {
            "image/png": "[encoded data removed]",
            "text/plain": [
              "<Figure size 432x288 with 2 Axes>"
            ]
          },
          "metadata": {
            "tags": [],
            "needs_background": "light"
          }
        },
        {
          "output_type": "display_data",
          "data": {
            "image/png": "[encoded data removed]",
            "text/plain": [
              "<Figure size 432x288 with 2 Axes>"
            ]
          },
          "metadata": {
            "tags": [],
            "needs_background": "light"
          }
        }
      ]
    },
    {
      "cell_type": "code",
      "metadata": {
        "colab": {
          "base_uri": "https://localhost:8080/",
          "height": 718
        },
        "id": "sCNZzsP9HdQN",
        "outputId": "14cfce90-b1a7-458b-c5fb-7f6d7bd61992"
      },
      "source": [
        "#Feature Importance in XGBoost\n",
        "print(\"Feature Importance\")\n",
        "print(model.feature_importances_) #use inbuilt class feature_importances of tree based classifiers\n",
        "#plot graph of feature importances for better visualization\n",
        "plt.figure(figsize=[10,10])\n",
        "feat_importances = pd.Series(model.feature_importances_, index=train_data.columns)\n",
        "feat_importances.nlargest(40).plot(kind='barh')\n",
        "\n",
        "plt.show()\n",
        "#print(feat_importances)\n",
        "results=pd.DataFrame()\n",
        "results['columns']=train_data.columns\n",
        "results['importances'] = model.feature_importances_\n",
        "results.sort_values(by='importances',ascending=False,inplace=True)\n",
        "\n",
        "results[2:]\n",
        "selected_features = results['columns'][2:].tolist()\n",
        "print(selected_features)"
      ],
      "execution_count": 42,
      "outputs": [
        {
          "output_type": "stream",
          "text": [
            "Feature Importance\n",
            "[0.12265602 0.01250049 0.01264814 0.00921889 0.00502762 0.01470026\n",
            " 0.01954931 0.00091623 0.11226087 0.06421932 0.         0.11210158\n",
            " 0.         0.         0.02927694 0.01741779 0.19615892 0.25531843\n",
            " 0.00402558 0.01200361]\n"
          ],
          "name": "stdout"
        },
        {
          "output_type": "display_data",
          "data": {
            "image/png": "[encoded data removed]",
            "text/plain": [
              "<Figure size 720x720 with 1 Axes>"
            ]
          },
          "metadata": {
            "tags": [],
            "needs_background": "light"
          }
        },
        {
          "output_type": "stream",
          "text": [
            "['policy_term_avg', 'inforce_count', 'lap_inf_ratio', 'lapse_count', 'num_policies', 'main_smoker', 'num_agents', 'Pay_mode_Y', 'Pay_mode_M', 'Pay_mode_H', 'payment_method_CHEQUE', 'Pay_mode_Q', 'Pay_mode_S', 'payment_method_CASH', 'spouse_smoker', 'num_children', 'ter_inf_ratio', 'terminate_count']\n"
          ],
          "name": "stdout"
        }
      ]
    },
    {
      "cell_type": "markdown",
      "metadata": {
        "id": "eZyhpjSRkKP0"
      },
      "source": [
        "##Support Vector Machine Approach"
      ]
    },
    {
      "cell_type": "code",
      "metadata": {
        "id": "WlUk1KK_GYpW"
      },
      "source": [
        "\n",
        "model = svm.SVC(degree=5,decision_function_shape='ovo', class_weight = 'balanced')\n",
        "model.fit(train_data,train_label)       \n",
        "y_predict=model.predict(val_data)\n",
        "print(\"Train accuracy : \"+str(model.score(train_data,train_label)))\n",
        "print(\"Validation accuracy : \"+str(model.score(val_data,val_label)))\n",
        "print(\"Precision : \"+str(precision_score(val_label,y_predict,average='macro', zero_division=0)))\n",
        "print(\"Recall : \"+str(recall_score(val_label,y_predict,average='macro', zero_division=0)))\n",
        "print(\"F1-Score : \"+str(f1_score(val_label,y_predict,average='macro', zero_division=0)))\n",
        "print(\"Classification Report\")\n",
        "print(classification_report(val_label,y_predict,zero_division=0))\n",
        "print(\"Confusion Matrix\")\n",
        "print(confusion_matrix(val_label,y_predict))\n",
        "#fig, ax = plt.subplots()\n",
        "#plot_confusion_matrix(val_label, y_predict, ax=ax)\n",
        "\n",
        "\n",
        "#neptune.log_metric('Training Accuracy', model.score(train_data,train_label))\n",
        "#neptune.log_metric('Validation Accuracy', model.score(val_data,val_label))\n",
        "#neptune.log_metric('Precision',precision_score(val_label,y_predict,average='macro', zero_division=0))\n",
        "#neptune.log_metric('Recall', recall_score(val_label,y_predict,average='macro', zero_division=0))\n",
        "#neptune.log_metric('F1-Score',f1_score(val_label,y_predict,average='macro', zero_division=0))"
      ],
      "execution_count": null,
      "outputs": []
    },
    {
      "cell_type": "code",
      "metadata": {
        "id": "OOnweckGIccZ"
      },
      "source": [
        "# Plot non-normalized confusion matrix\n",
        "titles_options = [(\"Confusion matrix, without normalization\", None),\n",
        "                  (\"Normalized confusion matrix\", 'true')]\n",
        "class_names = [\"Check-In\", \"Canceled\", \"No-Show\"]\n",
        "for title, normalize in titles_options:\n",
        "    disp = plot_confusion_matrix(model, val_data, val_label,\n",
        "                                 display_labels=class_names,\n",
        "                                 cmap=plt.cm.Blues,\n",
        "                                 normalize=normalize)\n",
        "    disp.ax_.set_title(title)\n",
        "\n",
        "    print(title)\n",
        "    print(disp.confusion_matrix)"
      ],
      "execution_count": null,
      "outputs": []
    },
    {
      "cell_type": "code",
      "metadata": {
        "id": "CFaCWvy7Iht2"
      },
      "source": [
        "#Feature Importance in XGBoost\n",
        "print(\"Feature Importance\")\n",
        "print(model.feature_importances_) #use inbuilt class feature_importances of tree based classifiers\n",
        "#plot graph of feature importances for better visualization\n",
        "plt.figure(figsize=[10,10])\n",
        "feat_importances = pd.Series(model.feature_importances_, index=train_data.columns)\n",
        "feat_importances.nlargest(40).plot(kind='barh')\n",
        "\n",
        "plt.show()\n",
        "#print(feat_importances)\n",
        "results=pd.DataFrame()\n",
        "results['columns']=train_data.columns\n",
        "results['importances'] = model.feature_importances_\n",
        "results.sort_values(by='importances',ascending=False,inplace=True)\n",
        "\n",
        "results[2:]\n",
        "selected_features = results['columns'][2:].tolist()\n",
        "print(selected_features)"
      ],
      "execution_count": null,
      "outputs": []
    },
    {
      "cell_type": "markdown",
      "metadata": {
        "id": "dyUkW5lnkjZj"
      },
      "source": [
        "##MLP classifier approach"
      ]
    },
    {
      "cell_type": "code",
      "metadata": {
        "colab": {
          "base_uri": "https://localhost:8080/"
        },
        "id": "VwHV9cdakpoD",
        "outputId": "dab67c78-5466-4994-bce7-50114d14b446"
      },
      "source": [
        "from sklearn.neural_network import MLPClassifier\n",
        "model = MLPClassifier(solver='adam',learning_rate = 'adaptive',learning_rate_init=0.01,activation= 'relu', alpha=1e-6, hidden_layer_sizes=(150, ), random_state=91,max_iter=400)\n",
        "model.fit(train_data,train_label) \n",
        "y_predict=model.predict(val_data)\n",
        "print(\"Train accuracy : \"+str(model.score(train_data,train_label)))\n",
        "print(\"Validation accuracy : \"+str(model.score(val_data,val_label)))\n",
        "print(\"Precision : \"+str(precision_score(val_label,y_predict,average='macro', zero_division=0)))\n",
        "print(\"Recall : \"+str(recall_score(val_label,y_predict,average='macro', zero_division=0)))\n",
        "print(\"F1-Score : \"+str(f1_score(val_label,y_predict,average='macro', zero_division=0)))\n",
        "print(\"Classification Report\")\n",
        "print(classification_report(val_label,y_predict,zero_division=0))\n",
        "print(\"Confusion Matrix\")\n",
        "print(confusion_matrix(val_label,y_predict))\n",
        "#fig, ax = plt.subplots()\n",
        "#plot_confusion_matrix(val_label, y_predict, ax=ax)\n",
        "\n",
        "\n",
        "#neptune.log_metric('Training Accuracy', model.score(train_data,train_label))\n",
        "#neptune.log_metric('Validation Accuracy', model.score(val_data,val_label))\n",
        "#neptune.log_metric('Precision',precision_score(val_label,y_predict,average='macro', zero_division=0))\n",
        "#neptune.log_metric('Recall', recall_score(val_label,y_predict,average='macro', zero_division=0))\n",
        "#neptune.log_metric('F1-Score',f1_score(val_label,y_predict,average='macro', zero_division=0))"
      ],
      "execution_count": null,
      "outputs": [
        {
          "output_type": "stream",
          "text": [
            "Train accuracy : 0.41264848038010976\n",
            "Validation accuracy : 0.37140778464896324\n",
            "Precision : 0.3573782652679491\n",
            "Recall : 0.35776231557195876\n",
            "F1-Score : 0.33108676553798505\n",
            "Classification Report\n",
            "              precision    recall  f1-score   support\n",
            "\n",
            "           0       0.61      0.42      0.50      1610\n",
            "           1       0.31      0.24      0.27       741\n",
            "           2       0.16      0.41      0.23       398\n",
            "\n",
            "    accuracy                           0.37      2749\n",
            "   macro avg       0.36      0.36      0.33      2749\n",
            "weighted avg       0.46      0.37      0.40      2749\n",
            "\n",
            "Confusion Matrix\n",
            "[[680 322 608]\n",
            " [278 177 286]\n",
            " [162  72 164]]\n"
          ],
          "name": "stdout"
        }
      ]
    },
    {
      "cell_type": "markdown",
      "metadata": {
        "id": "_gorpXkYk0DB"
      },
      "source": [
        "##Random Forest approach"
      ]
    },
    {
      "cell_type": "code",
      "metadata": {
        "colab": {
          "base_uri": "https://localhost:8080/"
        },
        "id": "Hig8auxNk0Q2",
        "outputId": "49da9e90-3120-46bc-eb4f-ebd47ace3266"
      },
      "source": [
        "from sklearn.metrics import roc_auc_score\n",
        "#model = RandomForestClassifier(max_depth=7,max_features=10,n_estimators=75, class_weight = 'balanced' )\n",
        "model = RandomForestClassifier(max_depth = 14, n_estimators = 115, class_weight = 'balanced', random_state = 39  )\n",
        "model.fit(train_data,train_label)       \n",
        "y_predict=model.predict(val_data)\n",
        "print(\"Train accuracy : \"+str(model.score(train_data,train_label)))\n",
        "print(\"Validation accuracy : \"+str(model.score(val_data,val_label)))\n",
        "print(\"Precision : \"+str(precision_score(val_label,y_predict,average='macro', zero_division=0)))\n",
        "print(\"Recall : \"+str(recall_score(val_label,y_predict,average='macro', zero_division=0)))\n",
        "print(\"F1-Score : \"+str(f1_score(val_label,y_predict,average='macro', zero_division=0)))\n",
        "print(\"Classification Report\")\n",
        "print(classification_report(val_label,y_predict,zero_division=0))\n",
        "print(\"Confusion Matrix\")\n",
        "print(confusion_matrix(val_label,y_predict))\n",
        "print(roc_auc_score(val_label,y_predict))\n",
        "#fig, ax = plt.subplots()\n",
        "#plot_confusion_matrix(val_label, y_predict, ax=ax)\n",
        "\n",
        "\n",
        "#neptune.log_metric('Training Accuracy', model.score(train_data,train_label))\n",
        "#neptune.log_metric('Validation Accuracy', model.score(val_data,val_label))\n",
        "#neptune.log_metric('Precision',precision_score(val_label,y_predict,average='macro', zero_division=0))\n",
        "#neptune.log_metric('Recall', recall_score(val_label,y_predict,average='macro', zero_division=0))\n",
        "#neptune.log_metric('F1-Score',f1_score(val_label,y_predict,average='macro', zero_division=0))"
      ],
      "execution_count": 156,
      "outputs": [
        {
          "output_type": "stream",
          "text": [
            "/usr/local/lib/python3.7/dist-packages/ipykernel_launcher.py:4: DataConversionWarning: A column-vector y was passed when a 1d array was expected. Please change the shape of y to (n_samples,), for example using ravel().\n",
            "  after removing the cwd from sys.path.\n"
          ],
          "name": "stderr"
        },
        {
          "output_type": "stream",
          "text": [
            "Train accuracy : 0.9529468764249887\n",
            "Validation accuracy : 0.936874385234045\n",
            "Precision : 0.5619137345728114\n",
            "Recall : 0.5994828464811957\n",
            "F1-Score : 0.5749703725268034\n",
            "Classification Report\n",
            "              precision    recall  f1-score   support\n",
            "\n",
            "           0       0.98      0.96      0.97     16777\n",
            "           1       0.15      0.24      0.18       506\n",
            "\n",
            "    accuracy                           0.94     17283\n",
            "   macro avg       0.56      0.60      0.57     17283\n",
            "weighted avg       0.95      0.94      0.94     17283\n",
            "\n",
            "Confusion Matrix\n",
            "[[16070   707]\n",
            " [  384   122]]\n",
            "0.5994828464811957\n"
          ],
          "name": "stdout"
        }
      ]
    },
    {
      "cell_type": "code",
      "metadata": {
        "colab": {
          "base_uri": "https://localhost:8080/",
          "height": 681
        },
        "id": "HZt9eny7tIQd",
        "outputId": "df9041c4-40ce-4945-dc80-20d20314fcb9"
      },
      "source": [
        "# Plot non-normalized confusion matrix\n",
        "titles_options = [(\"Confusion matrix, without normalization\", None),\n",
        "                  (\"Normalized confusion matrix\", 'true')]\n",
        "class_names = [\"No_Cross_sell\", \"Cross_sell\"]\n",
        "for title, normalize in titles_options:\n",
        "    disp = plot_confusion_matrix(model, val_data, val_label,\n",
        "                                 display_labels=class_names,\n",
        "                                 cmap=plt.cm.Blues,\n",
        "                                 normalize=normalize)\n",
        "    disp.ax_.set_title(title)\n",
        "\n",
        "    print(title)\n",
        "    print(disp.confusion_matrix)"
      ],
      "execution_count": 157,
      "outputs": [
        {
          "output_type": "stream",
          "text": [
            "Confusion matrix, without normalization\n",
            "[[16070   707]\n",
            " [  384   122]]\n",
            "Normalized confusion matrix\n",
            "[[0.95785897 0.04214103]\n",
            " [0.75889328 0.24110672]]\n"
          ],
          "name": "stdout"
        },
        {
          "output_type": "display_data",
          "data": {
            "image/png": "[encoded data removed]",
            "text/plain": [
              "<Figure size 432x288 with 2 Axes>"
            ]
          },
          "metadata": {
            "tags": [],
            "needs_background": "light"
          }
        },
        {
          "output_type": "display_data",
          "data": {
            "image/png": "[encoded data removed]",
            "text/plain": [
              "<Figure size 432x288 with 2 Axes>"
            ]
          },
          "metadata": {
            "tags": [],
            "needs_background": "light"
          }
        }
      ]
    },
    {
      "cell_type": "code",
      "metadata": {
        "colab": {
          "base_uri": "https://localhost:8080/",
          "height": 718
        },
        "id": "EBGiyhuytaTj",
        "outputId": "0539fde2-32a1-480b-d272-057b38f47e47"
      },
      "source": [
        "#Feature Importance in Random Forest\n",
        "print(\"Feature Importance\")\n",
        "print(model.feature_importances_) #use inbuilt class feature_importances of tree based classifiers\n",
        "#plot graph of feature importances for better visualization\n",
        "plt.figure(figsize=[10,10])\n",
        "feat_importances = pd.Series(model.feature_importances_, index=train_data.columns)\n",
        "feat_importances.nlargest(40).plot(kind='barh')\n",
        "\n",
        "plt.show()\n",
        "#print(feat_importances)\n",
        "results=pd.DataFrame()\n",
        "results['columns']=train_data.columns\n",
        "results['importances'] = model.feature_importances_\n",
        "results.sort_values(by='importances',ascending=False,inplace=True)\n",
        "\n",
        "results[:30]\n",
        "selected_features = results['columns'][:20].tolist()\n",
        "print(selected_features)"
      ],
      "execution_count": 158,
      "outputs": [
        {
          "output_type": "stream",
          "text": [
            "Feature Importance\n",
            "[0.09942176 0.01259754 0.01406139 0.01273707 0.01431266 0.01571523\n",
            " 0.01590852 0.00192377 0.12001058 0.1273923  0.         0.06988686\n",
            " 0.06827505 0.         0.04670621 0.02484917 0.15450664 0.18086394\n",
            " 0.00619    0.01464132]\n"
          ],
          "name": "stdout"
        },
        {
          "output_type": "display_data",
          "data": {
            "image/png": "[encoded data removed]",
            "text/plain": [
              "<Figure size 720x720 with 1 Axes>"
            ]
          },
          "metadata": {
            "tags": [],
            "needs_background": "light"
          }
        },
        {
          "output_type": "stream",
          "text": [
            "['premium_value', 'total_sum_assuared', 'lapse_count', 'inforce_count', 'policy_term_avg', 'lap_inf_ratio', 'ter_inf_ratio', 'num_policies', 'num_agents', 'main_smoker', 'Pay_mode_Y', 'payment_method_CHEQUE', 'Pay_mode_S', 'Pay_mode_M', 'Pay_mode_Q', 'Pay_mode_H', 'payment_method_CASH', 'spouse_smoker', 'num_children', 'terminate_count']\n"
          ],
          "name": "stdout"
        }
      ]
    },
    {
      "cell_type": "markdown",
      "metadata": {
        "id": "Tz8G7CNjk90q"
      },
      "source": [
        "##KNN approach"
      ]
    },
    {
      "cell_type": "code",
      "metadata": {
        "colab": {
          "base_uri": "https://localhost:8080/"
        },
        "id": "6TX_NkuJk-Ji",
        "outputId": "b4187dae-88d7-4f47-d71c-9c58f8f62395"
      },
      "source": [
        "model=KNeighborsClassifier(n_neighbors=3,algorithm='auto',weights='distance')\n",
        "model.fit(train_data,train_label)       \n",
        "y_predict=model.predict(val_data)\n",
        "print(\"Train accuracy : \"+str(model.score(train_data,train_label)))\n",
        "print(\"Validation accuracy : \"+str(model.score(val_data,val_label)))\n",
        "print(\"Precision : \"+str(precision_score(val_label,y_predict,average='macro', zero_division=0)))\n",
        "print(\"Recall : \"+str(recall_score(val_label,y_predict,average='macro', zero_division=0)))\n",
        "print(\"F1-Score : \"+str(f1_score(val_label,y_predict,average='macro', zero_division=0)))\n",
        "print(\"Classification Report\")\n",
        "print(classification_report(val_label,y_predict,zero_division=0))\n",
        "print(\"Confusion Matrix\")\n",
        "print(confusion_matrix(val_label,y_predict))\n",
        "#fig, ax = plt.subplots()\n",
        "#plot_confusion_matrix(val_label, y_predict, ax=ax)\n",
        "\n",
        "\n",
        "#neptune.log_metric('Training Accuracy', model.score(train_data,train_label))\n",
        "#neptune.log_metric('Validation Accuracy', model.score(val_data,val_label))\n",
        "#neptune.log_metric('Precision',precision_score(val_label,y_predict,average='macro', zero_division=0))\n",
        "#neptune.log_metric('Recall', recall_score(val_label,y_predict,average='macro', zero_division=0))\n",
        "#neptune.log_metric('F1-Score',f1_score(val_label,y_predict,average='macro', zero_division=0))"
      ],
      "execution_count": null,
      "outputs": [
        {
          "output_type": "stream",
          "text": [
            "Train accuracy : 1.0\n",
            "Validation accuracy : 0.4219716260458348\n",
            "Precision : 0.3212005365678779\n",
            "Recall : 0.3208768027978497\n",
            "F1-Score : 0.3209910453437807\n",
            "Classification Report\n",
            "              precision    recall  f1-score   support\n",
            "\n",
            "           0       0.58      0.57      0.57      1610\n",
            "           1       0.24      0.25      0.25       741\n",
            "           2       0.14      0.14      0.14       398\n",
            "\n",
            "    accuracy                           0.42      2749\n",
            "   macro avg       0.32      0.32      0.32      2749\n",
            "weighted avg       0.42      0.42      0.42      2749\n",
            "\n",
            "Confusion Matrix\n",
            "[[917 475 218]\n",
            " [440 187 114]\n",
            " [233 109  56]]\n"
          ],
          "name": "stdout"
        }
      ]
    },
    {
      "cell_type": "code",
      "metadata": {
        "colab": {
          "base_uri": "https://localhost:8080/"
        },
        "id": "G-RZNEVgTXo_",
        "outputId": "1ad05ce4-fb83-421b-c14b-0a950d90db4b"
      },
      "source": [
        "# Plot non-normalized confusion matrix\n",
        "titles_options = [(\"Confusion matrix, without normalization\", None),\n",
        "                  (\"Normalized confusion matrix\", 'true')]\n",
        "class_names = [\"Check-In\", \"Canceled\", \"No-Show\"]\n",
        "for title, normalize in titles_options:\n",
        "    disp = plot_confusion_matrix(model, val_data, val_label,\n",
        "                                 display_labels=class_names,\n",
        "                                 cmap=plt.cm.Blues,\n",
        "                                 normalize=normalize)\n",
        "    disp.ax_.set_title(title)\n",
        "\n",
        "    print(title)\n",
        "    print(disp.confusion_matrix)"
      ],
      "execution_count": null,
      "outputs": [
        {
          "output_type": "stream",
          "text": [
            "Confusion matrix, without normalization\n",
            "[[990 415 205]\n",
            " [426 208 107]\n",
            " [215 114  69]]\n",
            "Normalized confusion matrix\n",
            "[[0.61490683 0.25776398 0.12732919]\n",
            " [0.57489879 0.28070175 0.14439946]\n",
            " [0.54020101 0.28643216 0.17336683]]\n"
          ],
          "name": "stdout"
        },
        {
          "output_type": "display_data",
          "data": {
            "image/png": "[encoded data removed]",
            "text/plain": [
              "<Figure size 432x288 with 2 Axes>"
            ]
          },
          "metadata": {
            "tags": []
          }
        },
        {
          "output_type": "display_data",
          "data": {
            "image/png": "[encoded data removed]",
            "text/plain": [
              "<Figure size 432x288 with 2 Axes>"
            ]
          },
          "metadata": {
            "tags": []
          }
        }
      ]
    },
    {
      "cell_type": "markdown",
      "metadata": {
        "id": "_KibxSrOmO7g"
      },
      "source": [
        "##Ensemble - extra tree classifier approach"
      ]
    },
    {
      "cell_type": "code",
      "metadata": {
        "colab": {
          "base_uri": "https://localhost:8080/"
        },
        "id": "fN0CwJ5OmPHe",
        "outputId": "0eaad658-5807-41fe-b43c-8d290104070f"
      },
      "source": [
        "from sklearn.ensemble import ExtraTreesClassifier\n",
        "model = ExtraTreesClassifier(max_depth=12,n_estimators=100, class_weight = 'balanced')\n",
        "model.fit(train_data, train_label)\n",
        "y_predict= model.predict(val_data)\n",
        "print(\"Train accuracy : \"+str(model.score(train_data,train_label)))\n",
        "print(\"Validation accuracy : \"+str(model.score(val_data,val_label)))\n",
        "print(\"Precision : \"+str(precision_score(val_label,y_predict,average='macro', zero_division=0)))\n",
        "print(\"Recall : \"+str(recall_score(val_label,y_predict,average='macro', zero_division=0)))\n",
        "print(\"F1-Score : \"+str(f1_score(val_label,y_predict,average='macro', zero_division=0)))\n",
        "print(\"Classification Report\")\n",
        "print(classification_report(val_label,y_predict,zero_division=0))\n",
        "print(\"Confusion Matrix\")\n",
        "print(confusion_matrix(val_label,y_predict))\n",
        "#fig, ax = plt.subplots()\n",
        "#plot_confusion_matrix(val_label, y_predict, ax=ax)\n",
        "\n",
        "\n",
        "#neptune.log_metric('Training Accuracy', model.score(train_data,train_label))\n",
        "#neptune.log_metric('Validation Accuracy', model.score(val_data,val_label))\n",
        "#neptune.log_metric('Precision',precision_score(val_label,y_predict,average='macro', zero_division=0))\n",
        "#neptune.log_metric('Recall', recall_score(val_label,y_predict,average='macro', zero_division=0))\n",
        "#neptune.log_metric('F1-Score',f1_score(val_label,y_predict,average='macro', zero_division=0))"
      ],
      "execution_count": null,
      "outputs": [
        {
          "output_type": "stream",
          "text": [
            "Train accuracy : 0.8600638977635783\n",
            "Validation accuracy : 0.45180065478355763\n",
            "Precision : 0.3508459196357407\n",
            "Recall : 0.3517447928151331\n",
            "F1-Score : 0.35057768866857825\n",
            "Classification Report\n",
            "              precision    recall  f1-score   support\n",
            "\n",
            "           0       0.61      0.58      0.59      1610\n",
            "           1       0.30      0.34      0.32       741\n",
            "           2       0.15      0.13      0.14       398\n",
            "\n",
            "    accuracy                           0.45      2749\n",
            "   macro avg       0.35      0.35      0.35      2749\n",
            "weighted avg       0.46      0.45      0.45      2749\n",
            "\n",
            "Confusion Matrix\n",
            "[[937 471 202]\n",
            " [387 252 102]\n",
            " [219 126  53]]\n"
          ],
          "name": "stdout"
        }
      ]
    },
    {
      "cell_type": "markdown",
      "metadata": {
        "id": "H1QoIIBvL7gH"
      },
      "source": [
        "##Hypertuning the model"
      ]
    },
    {
      "cell_type": "code",
      "metadata": {
        "colab": {
          "base_uri": "https://localhost:8080/",
          "height": 1000
        },
        "id": "GuBKtqwcL-mP",
        "outputId": "7f0bebe0-5689-4f42-f941-b1cbea4dea12"
      },
      "source": [
        "#Hypertuning Parameters for Accuracy F1score and AUC score\n",
        "#max_depth\n",
        "#learning_rate\n",
        "#min_child_weight \n",
        "#gamma 4.63\n",
        "#colsample_bytree\n",
        "#scale_pos_weight \n",
        "#subsample\n",
        "#reg_lambda\n",
        "#x=np.linspace(3,25,num=23,dtype=int)\n",
        "x=np.linspace(0,500,num=501,dtype=int)\n",
        "train_acc = []\n",
        "val_acc = []\n",
        "F = []\n",
        "#clf = DecisionTreeClassifier(max_depth=50, class_weight = 'balanced')\n",
        "#x = [True, False]\n",
        "for i in x:\n",
        "     print(i)\n",
        "     #model=xgboost.XGBClassifier(base_estimator = clf, max_depth = 19, n_estimators = 15, objective = 'multi:softmax', gamma = 4.5, learning_rate = i, reg_lambda = 3.4).fit(train_data,train_label)    #hypertuned model\n",
        "     #model = DecisionTreeClassifier( max_depth = 20, class_weight = 'balanced', max_features = 'log2', random_state = 8  ).fit(train_data,train_label)\n",
        "     #model = RandomForestClassifier(max_depth = 12, n_estimators = 115, class_weight = 'balanced', random_state = 39  ).fit(train_data,train_label)  # 115\n",
        "     model = RandomForestClassifier(max_depth = 14, n_estimators = 115, class_weight = 'balanced', random_state = i  )\n",
        "     model.fit(train_data,train_label)       \n",
        "     y_pred=model.predict(val_data)\n",
        "     f=f1_score(val_label,y_pred ,average='macro', zero_division=0)\n",
        "     F.append(f)\n",
        "     #auc=roc_auc_score(val_label,y_pred,average='macro')\n",
        "     #AUC.append(auc)\n",
        "     train_acc.append(model.score(train_data,train_label))\n",
        "     val_acc.append(model.score(val_data,val_label))\n",
        "     if f > 0.3697:\n",
        "       print(\"improvement\")\n",
        " #ploting hypertuning results\n",
        " \n",
        "import matplotlib.pyplot as plt\n",
        "#plt.plot(x,AUC)\n",
        "#plt.title('AUC Score')\n",
        "#plt.ylabel('Auc')\n",
        "#plt.xlabel('Parameters')\n",
        "#plt.show()\n",
        "plt.plot(x,F)\n",
        "plt.title('F1 Score')\n",
        "plt.ylabel('F1')\n",
        "plt.xlabel('Parameters')\n",
        "plt.show()\n",
        "plt.plot(x,train_acc)\n",
        "plt.title('Train accuracy')\n",
        "plt.ylabel('Acc')\n",
        "plt.xlabel('Parameters')\n",
        "plt.show()\n",
        "plt.plot(x,val_acc)\n",
        "plt.title('Validation Accuracy')\n",
        "plt.ylabel('Acc')\n",
        "plt.xlabel('Parameters')\n",
        "plt.show()\n",
        "\n",
        "print(\"Maximum Training Acc : \"+str(max(train_acc)))\n",
        "print(x[train_acc.index(max(train_acc))])\n",
        "\n",
        "print(\"Maximum Validation Acc : \"+str(max(val_acc)))\n",
        "print(x[val_acc.index(max(val_acc))])\n",
        "\n",
        "print(\"Maximum F1 Score : \"+str(max(F)))\n",
        "print(x[F.index(max(F))])\n",
        "\n",
        "\n"
      ],
      "execution_count": 154,
      "outputs": [
        {
          "output_type": "stream",
          "text": [
            "0\n"
          ],
          "name": "stdout"
        },
        {
          "output_type": "stream",
          "text": [
            "/usr/local/lib/python3.7/dist-packages/ipykernel_launcher.py:23: DataConversionWarning: A column-vector y was passed when a 1d array was expected. Please change the shape of y to (n_samples,), for example using ravel().\n"
          ],
          "name": "stderr"
        },
        {
          "output_type": "stream",
          "text": [
            "improvement\n",
            "1\n"
          ],
          "name": "stdout"
        },
        {
          "output_type": "stream",
          "text": [
            "/usr/local/lib/python3.7/dist-packages/ipykernel_launcher.py:23: DataConversionWarning: A column-vector y was passed when a 1d array was expected. Please change the shape of y to (n_samples,), for example using ravel().\n"
          ],
          "name": "stderr"
        },
        {
          "output_type": "stream",
          "text": [
            "improvement\n",
            "2\n"
          ],
          "name": "stdout"
        },
        {
          "output_type": "stream",
          "text": [
            "/usr/local/lib/python3.7/dist-packages/ipykernel_launcher.py:23: DataConversionWarning: A column-vector y was passed when a 1d array was expected. Please change the shape of y to (n_samples,), for example using ravel().\n"
          ],
          "name": "stderr"
        },
        {
          "output_type": "stream",
          "text": [
            "improvement\n",
            "3\n"
          ],
          "name": "stdout"
        },
        {
          "output_type": "stream",
          "text": [
            "/usr/local/lib/python3.7/dist-packages/ipykernel_launcher.py:23: DataConversionWarning: A column-vector y was passed when a 1d array was expected. Please change the shape of y to (n_samples,), for example using ravel().\n"
          ],
          "name": "stderr"
        },
        {
          "output_type": "stream",
          "text": [
            "improvement\n",
            "4\n"
          ],
          "name": "stdout"
        },
        {
          "output_type": "stream",
          "text": [
            "/usr/local/lib/python3.7/dist-packages/ipykernel_launcher.py:23: DataConversionWarning: A column-vector y was passed when a 1d array was expected. Please change the shape of y to (n_samples,), for example using ravel().\n"
          ],
          "name": "stderr"
        },
        {
          "output_type": "stream",
          "text": [
            "improvement\n",
            "5\n"
          ],
          "name": "stdout"
        },
        {
          "output_type": "stream",
          "text": [
            "/usr/local/lib/python3.7/dist-packages/ipykernel_launcher.py:23: DataConversionWarning: A column-vector y was passed when a 1d array was expected. Please change the shape of y to (n_samples,), for example using ravel().\n"
          ],
          "name": "stderr"
        },
        {
          "output_type": "stream",
          "text": [
            "improvement\n",
            "6\n"
          ],
          "name": "stdout"
        },
        {
          "output_type": "stream",
          "text": [
            "/usr/local/lib/python3.7/dist-packages/ipykernel_launcher.py:23: DataConversionWarning: A column-vector y was passed when a 1d array was expected. Please change the shape of y to (n_samples,), for example using ravel().\n"
          ],
          "name": "stderr"
        },
        {
          "output_type": "stream",
          "text": [
            "improvement\n",
            "7\n"
          ],
          "name": "stdout"
        },
        {
          "output_type": "stream",
          "text": [
            "/usr/local/lib/python3.7/dist-packages/ipykernel_launcher.py:23: DataConversionWarning: A column-vector y was passed when a 1d array was expected. Please change the shape of y to (n_samples,), for example using ravel().\n"
          ],
          "name": "stderr"
        },
        {
          "output_type": "stream",
          "text": [
            "improvement\n",
            "8\n"
          ],
          "name": "stdout"
        },
        {
          "output_type": "stream",
          "text": [
            "/usr/local/lib/python3.7/dist-packages/ipykernel_launcher.py:23: DataConversionWarning: A column-vector y was passed when a 1d array was expected. Please change the shape of y to (n_samples,), for example using ravel().\n"
          ],
          "name": "stderr"
        },
        {
          "output_type": "stream",
          "text": [
            "improvement\n",
            "9\n"
          ],
          "name": "stdout"
        },
        {
          "output_type": "stream",
          "text": [
            "/usr/local/lib/python3.7/dist-packages/ipykernel_launcher.py:23: DataConversionWarning: A column-vector y was passed when a 1d array was expected. Please change the shape of y to (n_samples,), for example using ravel().\n"
          ],
          "name": "stderr"
        },
        {
          "output_type": "stream",
          "text": [
            "improvement\n",
            "10\n"
          ],
          "name": "stdout"
        },
        {
          "output_type": "stream",
          "text": [
            "/usr/local/lib/python3.7/dist-packages/ipykernel_launcher.py:23: DataConversionWarning: A column-vector y was passed when a 1d array was expected. Please change the shape of y to (n_samples,), for example using ravel().\n"
          ],
          "name": "stderr"
        },
        {
          "output_type": "stream",
          "text": [
            "improvement\n",
            "11\n"
          ],
          "name": "stdout"
        },
        {
          "output_type": "stream",
          "text": [
            "/usr/local/lib/python3.7/dist-packages/ipykernel_launcher.py:23: DataConversionWarning: A column-vector y was passed when a 1d array was expected. Please change the shape of y to (n_samples,), for example using ravel().\n"
          ],
          "name": "stderr"
        },
        {
          "output_type": "stream",
          "text": [
            "improvement\n",
            "12\n"
          ],
          "name": "stdout"
        },
        {
          "output_type": "stream",
          "text": [
            "/usr/local/lib/python3.7/dist-packages/ipykernel_launcher.py:23: DataConversionWarning: A column-vector y was passed when a 1d array was expected. Please change the shape of y to (n_samples,), for example using ravel().\n"
          ],
          "name": "stderr"
        },
        {
          "output_type": "stream",
          "text": [
            "improvement\n",
            "13\n"
          ],
          "name": "stdout"
        },
        {
          "output_type": "stream",
          "text": [
            "/usr/local/lib/python3.7/dist-packages/ipykernel_launcher.py:23: DataConversionWarning: A column-vector y was passed when a 1d array was expected. Please change the shape of y to (n_samples,), for example using ravel().\n"
          ],
          "name": "stderr"
        },
        {
          "output_type": "stream",
          "text": [
            "improvement\n",
            "14\n"
          ],
          "name": "stdout"
        },
        {
          "output_type": "stream",
          "text": [
            "/usr/local/lib/python3.7/dist-packages/ipykernel_launcher.py:23: DataConversionWarning: A column-vector y was passed when a 1d array was expected. Please change the shape of y to (n_samples,), for example using ravel().\n"
          ],
          "name": "stderr"
        },
        {
          "output_type": "stream",
          "text": [
            "improvement\n",
            "15\n"
          ],
          "name": "stdout"
        },
        {
          "output_type": "stream",
          "text": [
            "/usr/local/lib/python3.7/dist-packages/ipykernel_launcher.py:23: DataConversionWarning: A column-vector y was passed when a 1d array was expected. Please change the shape of y to (n_samples,), for example using ravel().\n"
          ],
          "name": "stderr"
        },
        {
          "output_type": "stream",
          "text": [
            "improvement\n",
            "16\n"
          ],
          "name": "stdout"
        },
        {
          "output_type": "stream",
          "text": [
            "/usr/local/lib/python3.7/dist-packages/ipykernel_launcher.py:23: DataConversionWarning: A column-vector y was passed when a 1d array was expected. Please change the shape of y to (n_samples,), for example using ravel().\n"
          ],
          "name": "stderr"
        },
        {
          "output_type": "stream",
          "text": [
            "improvement\n",
            "17\n"
          ],
          "name": "stdout"
        },
        {
          "output_type": "stream",
          "text": [
            "/usr/local/lib/python3.7/dist-packages/ipykernel_launcher.py:23: DataConversionWarning: A column-vector y was passed when a 1d array was expected. Please change the shape of y to (n_samples,), for example using ravel().\n"
          ],
          "name": "stderr"
        },
        {
          "output_type": "stream",
          "text": [
            "improvement\n",
            "18\n"
          ],
          "name": "stdout"
        },
        {
          "output_type": "stream",
          "text": [
            "/usr/local/lib/python3.7/dist-packages/ipykernel_launcher.py:23: DataConversionWarning: A column-vector y was passed when a 1d array was expected. Please change the shape of y to (n_samples,), for example using ravel().\n"
          ],
          "name": "stderr"
        },
        {
          "output_type": "stream",
          "text": [
            "improvement\n",
            "19\n"
          ],
          "name": "stdout"
        },
        {
          "output_type": "stream",
          "text": [
            "/usr/local/lib/python3.7/dist-packages/ipykernel_launcher.py:23: DataConversionWarning: A column-vector y was passed when a 1d array was expected. Please change the shape of y to (n_samples,), for example using ravel().\n"
          ],
          "name": "stderr"
        },
        {
          "output_type": "stream",
          "text": [
            "improvement\n",
            "20\n"
          ],
          "name": "stdout"
        },
        {
          "output_type": "stream",
          "text": [
            "/usr/local/lib/python3.7/dist-packages/ipykernel_launcher.py:23: DataConversionWarning: A column-vector y was passed when a 1d array was expected. Please change the shape of y to (n_samples,), for example using ravel().\n"
          ],
          "name": "stderr"
        },
        {
          "output_type": "stream",
          "text": [
            "improvement\n",
            "21\n"
          ],
          "name": "stdout"
        },
        {
          "output_type": "stream",
          "text": [
            "/usr/local/lib/python3.7/dist-packages/ipykernel_launcher.py:23: DataConversionWarning: A column-vector y was passed when a 1d array was expected. Please change the shape of y to (n_samples,), for example using ravel().\n"
          ],
          "name": "stderr"
        },
        {
          "output_type": "stream",
          "text": [
            "improvement\n",
            "22\n"
          ],
          "name": "stdout"
        },
        {
          "output_type": "stream",
          "text": [
            "/usr/local/lib/python3.7/dist-packages/ipykernel_launcher.py:23: DataConversionWarning: A column-vector y was passed when a 1d array was expected. Please change the shape of y to (n_samples,), for example using ravel().\n"
          ],
          "name": "stderr"
        },
        {
          "output_type": "stream",
          "text": [
            "improvement\n",
            "23\n"
          ],
          "name": "stdout"
        },
        {
          "output_type": "stream",
          "text": [
            "/usr/local/lib/python3.7/dist-packages/ipykernel_launcher.py:23: DataConversionWarning: A column-vector y was passed when a 1d array was expected. Please change the shape of y to (n_samples,), for example using ravel().\n"
          ],
          "name": "stderr"
        },
        {
          "output_type": "stream",
          "text": [
            "improvement\n",
            "24\n"
          ],
          "name": "stdout"
        },
        {
          "output_type": "stream",
          "text": [
            "/usr/local/lib/python3.7/dist-packages/ipykernel_launcher.py:23: DataConversionWarning: A column-vector y was passed when a 1d array was expected. Please change the shape of y to (n_samples,), for example using ravel().\n"
          ],
          "name": "stderr"
        },
        {
          "output_type": "stream",
          "text": [
            "improvement\n",
            "25\n"
          ],
          "name": "stdout"
        },
        {
          "output_type": "stream",
          "text": [
            "/usr/local/lib/python3.7/dist-packages/ipykernel_launcher.py:23: DataConversionWarning: A column-vector y was passed when a 1d array was expected. Please change the shape of y to (n_samples,), for example using ravel().\n"
          ],
          "name": "stderr"
        },
        {
          "output_type": "stream",
          "text": [
            "improvement\n",
            "26\n"
          ],
          "name": "stdout"
        },
        {
          "output_type": "stream",
          "text": [
            "/usr/local/lib/python3.7/dist-packages/ipykernel_launcher.py:23: DataConversionWarning: A column-vector y was passed when a 1d array was expected. Please change the shape of y to (n_samples,), for example using ravel().\n"
          ],
          "name": "stderr"
        },
        {
          "output_type": "stream",
          "text": [
            "improvement\n",
            "27\n"
          ],
          "name": "stdout"
        },
        {
          "output_type": "stream",
          "text": [
            "/usr/local/lib/python3.7/dist-packages/ipykernel_launcher.py:23: DataConversionWarning: A column-vector y was passed when a 1d array was expected. Please change the shape of y to (n_samples,), for example using ravel().\n"
          ],
          "name": "stderr"
        },
        {
          "output_type": "stream",
          "text": [
            "improvement\n",
            "28\n"
          ],
          "name": "stdout"
        },
        {
          "output_type": "stream",
          "text": [
            "/usr/local/lib/python3.7/dist-packages/ipykernel_launcher.py:23: DataConversionWarning: A column-vector y was passed when a 1d array was expected. Please change the shape of y to (n_samples,), for example using ravel().\n"
          ],
          "name": "stderr"
        },
        {
          "output_type": "stream",
          "text": [
            "improvement\n",
            "29\n"
          ],
          "name": "stdout"
        },
        {
          "output_type": "stream",
          "text": [
            "/usr/local/lib/python3.7/dist-packages/ipykernel_launcher.py:23: DataConversionWarning: A column-vector y was passed when a 1d array was expected. Please change the shape of y to (n_samples,), for example using ravel().\n"
          ],
          "name": "stderr"
        },
        {
          "output_type": "stream",
          "text": [
            "improvement\n",
            "30\n"
          ],
          "name": "stdout"
        },
        {
          "output_type": "stream",
          "text": [
            "/usr/local/lib/python3.7/dist-packages/ipykernel_launcher.py:23: DataConversionWarning: A column-vector y was passed when a 1d array was expected. Please change the shape of y to (n_samples,), for example using ravel().\n"
          ],
          "name": "stderr"
        },
        {
          "output_type": "stream",
          "text": [
            "improvement\n",
            "31\n"
          ],
          "name": "stdout"
        },
        {
          "output_type": "stream",
          "text": [
            "/usr/local/lib/python3.7/dist-packages/ipykernel_launcher.py:23: DataConversionWarning: A column-vector y was passed when a 1d array was expected. Please change the shape of y to (n_samples,), for example using ravel().\n"
          ],
          "name": "stderr"
        },
        {
          "output_type": "stream",
          "text": [
            "improvement\n",
            "32\n"
          ],
          "name": "stdout"
        },
        {
          "output_type": "stream",
          "text": [
            "/usr/local/lib/python3.7/dist-packages/ipykernel_launcher.py:23: DataConversionWarning: A column-vector y was passed when a 1d array was expected. Please change the shape of y to (n_samples,), for example using ravel().\n"
          ],
          "name": "stderr"
        },
        {
          "output_type": "stream",
          "text": [
            "improvement\n",
            "33\n"
          ],
          "name": "stdout"
        },
        {
          "output_type": "stream",
          "text": [
            "/usr/local/lib/python3.7/dist-packages/ipykernel_launcher.py:23: DataConversionWarning: A column-vector y was passed when a 1d array was expected. Please change the shape of y to (n_samples,), for example using ravel().\n"
          ],
          "name": "stderr"
        },
        {
          "output_type": "stream",
          "text": [
            "improvement\n",
            "34\n"
          ],
          "name": "stdout"
        },
        {
          "output_type": "stream",
          "text": [
            "/usr/local/lib/python3.7/dist-packages/ipykernel_launcher.py:23: DataConversionWarning: A column-vector y was passed when a 1d array was expected. Please change the shape of y to (n_samples,), for example using ravel().\n"
          ],
          "name": "stderr"
        },
        {
          "output_type": "stream",
          "text": [
            "improvement\n",
            "35\n"
          ],
          "name": "stdout"
        },
        {
          "output_type": "stream",
          "text": [
            "/usr/local/lib/python3.7/dist-packages/ipykernel_launcher.py:23: DataConversionWarning: A column-vector y was passed when a 1d array was expected. Please change the shape of y to (n_samples,), for example using ravel().\n"
          ],
          "name": "stderr"
        },
        {
          "output_type": "stream",
          "text": [
            "improvement\n",
            "36\n"
          ],
          "name": "stdout"
        },
        {
          "output_type": "stream",
          "text": [
            "/usr/local/lib/python3.7/dist-packages/ipykernel_launcher.py:23: DataConversionWarning: A column-vector y was passed when a 1d array was expected. Please change the shape of y to (n_samples,), for example using ravel().\n"
          ],
          "name": "stderr"
        },
        {
          "output_type": "stream",
          "text": [
            "improvement\n",
            "37\n"
          ],
          "name": "stdout"
        },
        {
          "output_type": "stream",
          "text": [
            "/usr/local/lib/python3.7/dist-packages/ipykernel_launcher.py:23: DataConversionWarning: A column-vector y was passed when a 1d array was expected. Please change the shape of y to (n_samples,), for example using ravel().\n"
          ],
          "name": "stderr"
        },
        {
          "output_type": "stream",
          "text": [
            "improvement\n",
            "38\n"
          ],
          "name": "stdout"
        },
        {
          "output_type": "stream",
          "text": [
            "/usr/local/lib/python3.7/dist-packages/ipykernel_launcher.py:23: DataConversionWarning: A column-vector y was passed when a 1d array was expected. Please change the shape of y to (n_samples,), for example using ravel().\n"
          ],
          "name": "stderr"
        },
        {
          "output_type": "stream",
          "text": [
            "improvement\n",
            "39\n"
          ],
          "name": "stdout"
        },
        {
          "output_type": "stream",
          "text": [
            "/usr/local/lib/python3.7/dist-packages/ipykernel_launcher.py:23: DataConversionWarning: A column-vector y was passed when a 1d array was expected. Please change the shape of y to (n_samples,), for example using ravel().\n"
          ],
          "name": "stderr"
        },
        {
          "output_type": "stream",
          "text": [
            "improvement\n",
            "40\n"
          ],
          "name": "stdout"
        },
        {
          "output_type": "stream",
          "text": [
            "/usr/local/lib/python3.7/dist-packages/ipykernel_launcher.py:23: DataConversionWarning: A column-vector y was passed when a 1d array was expected. Please change the shape of y to (n_samples,), for example using ravel().\n"
          ],
          "name": "stderr"
        },
        {
          "output_type": "stream",
          "text": [
            "improvement\n",
            "41\n"
          ],
          "name": "stdout"
        },
        {
          "output_type": "stream",
          "text": [
            "/usr/local/lib/python3.7/dist-packages/ipykernel_launcher.py:23: DataConversionWarning: A column-vector y was passed when a 1d array was expected. Please change the shape of y to (n_samples,), for example using ravel().\n"
          ],
          "name": "stderr"
        },
        {
          "output_type": "stream",
          "text": [
            "improvement\n",
            "42\n"
          ],
          "name": "stdout"
        },
        {
          "output_type": "stream",
          "text": [
            "/usr/local/lib/python3.7/dist-packages/ipykernel_launcher.py:23: DataConversionWarning: A column-vector y was passed when a 1d array was expected. Please change the shape of y to (n_samples,), for example using ravel().\n"
          ],
          "name": "stderr"
        },
        {
          "output_type": "stream",
          "text": [
            "improvement\n",
            "43\n"
          ],
          "name": "stdout"
        },
        {
          "output_type": "stream",
          "text": [
            "/usr/local/lib/python3.7/dist-packages/ipykernel_launcher.py:23: DataConversionWarning: A column-vector y was passed when a 1d array was expected. Please change the shape of y to (n_samples,), for example using ravel().\n"
          ],
          "name": "stderr"
        },
        {
          "output_type": "stream",
          "text": [
            "improvement\n",
            "44\n"
          ],
          "name": "stdout"
        },
        {
          "output_type": "stream",
          "text": [
            "/usr/local/lib/python3.7/dist-packages/ipykernel_launcher.py:23: DataConversionWarning: A column-vector y was passed when a 1d array was expected. Please change the shape of y to (n_samples,), for example using ravel().\n"
          ],
          "name": "stderr"
        },
        {
          "output_type": "stream",
          "text": [
            "improvement\n",
            "45\n"
          ],
          "name": "stdout"
        },
        {
          "output_type": "stream",
          "text": [
            "/usr/local/lib/python3.7/dist-packages/ipykernel_launcher.py:23: DataConversionWarning: A column-vector y was passed when a 1d array was expected. Please change the shape of y to (n_samples,), for example using ravel().\n"
          ],
          "name": "stderr"
        },
        {
          "output_type": "stream",
          "text": [
            "improvement\n",
            "46\n"
          ],
          "name": "stdout"
        },
        {
          "output_type": "stream",
          "text": [
            "/usr/local/lib/python3.7/dist-packages/ipykernel_launcher.py:23: DataConversionWarning: A column-vector y was passed when a 1d array was expected. Please change the shape of y to (n_samples,), for example using ravel().\n"
          ],
          "name": "stderr"
        },
        {
          "output_type": "stream",
          "text": [
            "improvement\n",
            "47\n"
          ],
          "name": "stdout"
        },
        {
          "output_type": "stream",
          "text": [
            "/usr/local/lib/python3.7/dist-packages/ipykernel_launcher.py:23: DataConversionWarning: A column-vector y was passed when a 1d array was expected. Please change the shape of y to (n_samples,), for example using ravel().\n"
          ],
          "name": "stderr"
        },
        {
          "output_type": "stream",
          "text": [
            "improvement\n",
            "48\n"
          ],
          "name": "stdout"
        },
        {
          "output_type": "stream",
          "text": [
            "/usr/local/lib/python3.7/dist-packages/ipykernel_launcher.py:23: DataConversionWarning: A column-vector y was passed when a 1d array was expected. Please change the shape of y to (n_samples,), for example using ravel().\n"
          ],
          "name": "stderr"
        },
        {
          "output_type": "error",
          "ename": "KeyboardInterrupt",
          "evalue": "ignored",
          "traceback": [
            "\u001b[0;31m---------------------------------------------------------------------------\u001b[0m",
            "\u001b[0;31mKeyboardInterrupt\u001b[0m                         Traceback (most recent call last)",
            "\u001b[0;32m<ipython-input-154-a6288d5d1e51>\u001b[0m in \u001b[0;36m<module>\u001b[0;34m()\u001b[0m\n\u001b[1;32m     22\u001b[0m      \u001b[0mmodel\u001b[0m \u001b[0;34m=\u001b[0m \u001b[0mRandomForestClassifier\u001b[0m\u001b[0;34m(\u001b[0m\u001b[0mmax_depth\u001b[0m \u001b[0;34m=\u001b[0m \u001b[0;36m14\u001b[0m\u001b[0;34m,\u001b[0m \u001b[0mn_estimators\u001b[0m \u001b[0;34m=\u001b[0m \u001b[0;36m115\u001b[0m\u001b[0;34m,\u001b[0m \u001b[0mclass_weight\u001b[0m \u001b[0;34m=\u001b[0m \u001b[0;34m'balanced'\u001b[0m\u001b[0;34m,\u001b[0m \u001b[0mrandom_state\u001b[0m \u001b[0;34m=\u001b[0m \u001b[0mi\u001b[0m  \u001b[0;34m)\u001b[0m\u001b[0;34m\u001b[0m\u001b[0;34m\u001b[0m\u001b[0m\n\u001b[1;32m     23\u001b[0m      \u001b[0mmodel\u001b[0m\u001b[0;34m.\u001b[0m\u001b[0mfit\u001b[0m\u001b[0;34m(\u001b[0m\u001b[0mtrain_data\u001b[0m\u001b[0;34m,\u001b[0m\u001b[0mtrain_label\u001b[0m\u001b[0;34m)\u001b[0m\u001b[0;34m\u001b[0m\u001b[0;34m\u001b[0m\u001b[0m\n\u001b[0;32m---> 24\u001b[0;31m      \u001b[0my_pred\u001b[0m\u001b[0;34m=\u001b[0m\u001b[0mmodel\u001b[0m\u001b[0;34m.\u001b[0m\u001b[0mpredict\u001b[0m\u001b[0;34m(\u001b[0m\u001b[0mval_data\u001b[0m\u001b[0;34m)\u001b[0m\u001b[0;34m\u001b[0m\u001b[0;34m\u001b[0m\u001b[0m\n\u001b[0m\u001b[1;32m     25\u001b[0m      \u001b[0mf\u001b[0m\u001b[0;34m=\u001b[0m\u001b[0mf1_score\u001b[0m\u001b[0;34m(\u001b[0m\u001b[0mval_label\u001b[0m\u001b[0;34m,\u001b[0m\u001b[0my_pred\u001b[0m \u001b[0;34m,\u001b[0m\u001b[0maverage\u001b[0m\u001b[0;34m=\u001b[0m\u001b[0;34m'macro'\u001b[0m\u001b[0;34m,\u001b[0m \u001b[0mzero_division\u001b[0m\u001b[0;34m=\u001b[0m\u001b[0;36m0\u001b[0m\u001b[0;34m)\u001b[0m\u001b[0;34m\u001b[0m\u001b[0;34m\u001b[0m\u001b[0m\n\u001b[1;32m     26\u001b[0m      \u001b[0mF\u001b[0m\u001b[0;34m.\u001b[0m\u001b[0mappend\u001b[0m\u001b[0;34m(\u001b[0m\u001b[0mf\u001b[0m\u001b[0;34m)\u001b[0m\u001b[0;34m\u001b[0m\u001b[0;34m\u001b[0m\u001b[0m\n",
            "\u001b[0;32m/usr/local/lib/python3.7/dist-packages/sklearn/ensemble/_forest.py\u001b[0m in \u001b[0;36mpredict\u001b[0;34m(self, X)\u001b[0m\n\u001b[1;32m    610\u001b[0m             \u001b[0mThe\u001b[0m \u001b[0mpredicted\u001b[0m \u001b[0mclasses\u001b[0m\u001b[0;34m.\u001b[0m\u001b[0;34m\u001b[0m\u001b[0;34m\u001b[0m\u001b[0m\n\u001b[1;32m    611\u001b[0m         \"\"\"\n\u001b[0;32m--> 612\u001b[0;31m         \u001b[0mproba\u001b[0m \u001b[0;34m=\u001b[0m \u001b[0mself\u001b[0m\u001b[0;34m.\u001b[0m\u001b[0mpredict_proba\u001b[0m\u001b[0;34m(\u001b[0m\u001b[0mX\u001b[0m\u001b[0;34m)\u001b[0m\u001b[0;34m\u001b[0m\u001b[0;34m\u001b[0m\u001b[0m\n\u001b[0m\u001b[1;32m    613\u001b[0m \u001b[0;34m\u001b[0m\u001b[0m\n\u001b[1;32m    614\u001b[0m         \u001b[0;32mif\u001b[0m \u001b[0mself\u001b[0m\u001b[0;34m.\u001b[0m\u001b[0mn_outputs_\u001b[0m \u001b[0;34m==\u001b[0m \u001b[0;36m1\u001b[0m\u001b[0;34m:\u001b[0m\u001b[0;34m\u001b[0m\u001b[0;34m\u001b[0m\u001b[0m\n",
            "\u001b[0;32m/usr/local/lib/python3.7/dist-packages/sklearn/ensemble/_forest.py\u001b[0m in \u001b[0;36mpredict_proba\u001b[0;34m(self, X)\u001b[0m\n\u001b[1;32m    667\u001b[0m             delayed(_accumulate_prediction)(e.predict_proba, X, all_proba,\n\u001b[1;32m    668\u001b[0m                                             lock)\n\u001b[0;32m--> 669\u001b[0;31m             for e in self.estimators_)\n\u001b[0m\u001b[1;32m    670\u001b[0m \u001b[0;34m\u001b[0m\u001b[0m\n\u001b[1;32m    671\u001b[0m         \u001b[0;32mfor\u001b[0m \u001b[0mproba\u001b[0m \u001b[0;32min\u001b[0m \u001b[0mall_proba\u001b[0m\u001b[0;34m:\u001b[0m\u001b[0;34m\u001b[0m\u001b[0;34m\u001b[0m\u001b[0m\n",
            "\u001b[0;32m/usr/local/lib/python3.7/dist-packages/joblib/parallel.py\u001b[0m in \u001b[0;36m__call__\u001b[0;34m(self, iterable)\u001b[0m\n\u001b[1;32m   1042\u001b[0m                 \u001b[0mself\u001b[0m\u001b[0;34m.\u001b[0m\u001b[0m_iterating\u001b[0m \u001b[0;34m=\u001b[0m \u001b[0mself\u001b[0m\u001b[0;34m.\u001b[0m\u001b[0m_original_iterator\u001b[0m \u001b[0;32mis\u001b[0m \u001b[0;32mnot\u001b[0m \u001b[0;32mNone\u001b[0m\u001b[0;34m\u001b[0m\u001b[0;34m\u001b[0m\u001b[0m\n\u001b[1;32m   1043\u001b[0m \u001b[0;34m\u001b[0m\u001b[0m\n\u001b[0;32m-> 1044\u001b[0;31m             \u001b[0;32mwhile\u001b[0m \u001b[0mself\u001b[0m\u001b[0;34m.\u001b[0m\u001b[0mdispatch_one_batch\u001b[0m\u001b[0;34m(\u001b[0m\u001b[0miterator\u001b[0m\u001b[0;34m)\u001b[0m\u001b[0;34m:\u001b[0m\u001b[0;34m\u001b[0m\u001b[0;34m\u001b[0m\u001b[0m\n\u001b[0m\u001b[1;32m   1045\u001b[0m                 \u001b[0;32mpass\u001b[0m\u001b[0;34m\u001b[0m\u001b[0;34m\u001b[0m\u001b[0m\n\u001b[1;32m   1046\u001b[0m \u001b[0;34m\u001b[0m\u001b[0m\n",
            "\u001b[0;32m/usr/local/lib/python3.7/dist-packages/joblib/parallel.py\u001b[0m in \u001b[0;36mdispatch_one_batch\u001b[0;34m(self, iterator)\u001b[0m\n\u001b[1;32m    857\u001b[0m                 \u001b[0;32mreturn\u001b[0m \u001b[0;32mFalse\u001b[0m\u001b[0;34m\u001b[0m\u001b[0;34m\u001b[0m\u001b[0m\n\u001b[1;32m    858\u001b[0m             \u001b[0;32melse\u001b[0m\u001b[0;34m:\u001b[0m\u001b[0;34m\u001b[0m\u001b[0;34m\u001b[0m\u001b[0m\n\u001b[0;32m--> 859\u001b[0;31m                 \u001b[0mself\u001b[0m\u001b[0;34m.\u001b[0m\u001b[0m_dispatch\u001b[0m\u001b[0;34m(\u001b[0m\u001b[0mtasks\u001b[0m\u001b[0;34m)\u001b[0m\u001b[0;34m\u001b[0m\u001b[0;34m\u001b[0m\u001b[0m\n\u001b[0m\u001b[1;32m    860\u001b[0m                 \u001b[0;32mreturn\u001b[0m \u001b[0;32mTrue\u001b[0m\u001b[0;34m\u001b[0m\u001b[0;34m\u001b[0m\u001b[0m\n\u001b[1;32m    861\u001b[0m \u001b[0;34m\u001b[0m\u001b[0m\n",
            "\u001b[0;32m/usr/local/lib/python3.7/dist-packages/joblib/parallel.py\u001b[0m in \u001b[0;36m_dispatch\u001b[0;34m(self, batch)\u001b[0m\n\u001b[1;32m    775\u001b[0m         \u001b[0;32mwith\u001b[0m \u001b[0mself\u001b[0m\u001b[0;34m.\u001b[0m\u001b[0m_lock\u001b[0m\u001b[0;34m:\u001b[0m\u001b[0;34m\u001b[0m\u001b[0;34m\u001b[0m\u001b[0m\n\u001b[1;32m    776\u001b[0m             \u001b[0mjob_idx\u001b[0m \u001b[0;34m=\u001b[0m \u001b[0mlen\u001b[0m\u001b[0;34m(\u001b[0m\u001b[0mself\u001b[0m\u001b[0;34m.\u001b[0m\u001b[0m_jobs\u001b[0m\u001b[0;34m)\u001b[0m\u001b[0;34m\u001b[0m\u001b[0;34m\u001b[0m\u001b[0m\n\u001b[0;32m--> 777\u001b[0;31m             \u001b[0mjob\u001b[0m \u001b[0;34m=\u001b[0m \u001b[0mself\u001b[0m\u001b[0;34m.\u001b[0m\u001b[0m_backend\u001b[0m\u001b[0;34m.\u001b[0m\u001b[0mapply_async\u001b[0m\u001b[0;34m(\u001b[0m\u001b[0mbatch\u001b[0m\u001b[0;34m,\u001b[0m \u001b[0mcallback\u001b[0m\u001b[0;34m=\u001b[0m\u001b[0mcb\u001b[0m\u001b[0;34m)\u001b[0m\u001b[0;34m\u001b[0m\u001b[0;34m\u001b[0m\u001b[0m\n\u001b[0m\u001b[1;32m    778\u001b[0m             \u001b[0;31m# A job can complete so quickly than its callback is\u001b[0m\u001b[0;34m\u001b[0m\u001b[0;34m\u001b[0m\u001b[0;34m\u001b[0m\u001b[0m\n\u001b[1;32m    779\u001b[0m             \u001b[0;31m# called before we get here, causing self._jobs to\u001b[0m\u001b[0;34m\u001b[0m\u001b[0;34m\u001b[0m\u001b[0;34m\u001b[0m\u001b[0m\n",
            "\u001b[0;32m/usr/local/lib/python3.7/dist-packages/joblib/_parallel_backends.py\u001b[0m in \u001b[0;36mapply_async\u001b[0;34m(self, func, callback)\u001b[0m\n\u001b[1;32m    206\u001b[0m     \u001b[0;32mdef\u001b[0m \u001b[0mapply_async\u001b[0m\u001b[0;34m(\u001b[0m\u001b[0mself\u001b[0m\u001b[0;34m,\u001b[0m \u001b[0mfunc\u001b[0m\u001b[0;34m,\u001b[0m \u001b[0mcallback\u001b[0m\u001b[0;34m=\u001b[0m\u001b[0;32mNone\u001b[0m\u001b[0;34m)\u001b[0m\u001b[0;34m:\u001b[0m\u001b[0;34m\u001b[0m\u001b[0;34m\u001b[0m\u001b[0m\n\u001b[1;32m    207\u001b[0m         \u001b[0;34m\"\"\"Schedule a func to be run\"\"\"\u001b[0m\u001b[0;34m\u001b[0m\u001b[0;34m\u001b[0m\u001b[0m\n\u001b[0;32m--> 208\u001b[0;31m         \u001b[0mresult\u001b[0m \u001b[0;34m=\u001b[0m \u001b[0mImmediateResult\u001b[0m\u001b[0;34m(\u001b[0m\u001b[0mfunc\u001b[0m\u001b[0;34m)\u001b[0m\u001b[0;34m\u001b[0m\u001b[0;34m\u001b[0m\u001b[0m\n\u001b[0m\u001b[1;32m    209\u001b[0m         \u001b[0;32mif\u001b[0m \u001b[0mcallback\u001b[0m\u001b[0;34m:\u001b[0m\u001b[0;34m\u001b[0m\u001b[0;34m\u001b[0m\u001b[0m\n\u001b[1;32m    210\u001b[0m             \u001b[0mcallback\u001b[0m\u001b[0;34m(\u001b[0m\u001b[0mresult\u001b[0m\u001b[0;34m)\u001b[0m\u001b[0;34m\u001b[0m\u001b[0;34m\u001b[0m\u001b[0m\n",
            "\u001b[0;32m/usr/local/lib/python3.7/dist-packages/joblib/_parallel_backends.py\u001b[0m in \u001b[0;36m__init__\u001b[0;34m(self, batch)\u001b[0m\n\u001b[1;32m    570\u001b[0m         \u001b[0;31m# Don't delay the application, to avoid keeping the input\u001b[0m\u001b[0;34m\u001b[0m\u001b[0;34m\u001b[0m\u001b[0;34m\u001b[0m\u001b[0m\n\u001b[1;32m    571\u001b[0m         \u001b[0;31m# arguments in memory\u001b[0m\u001b[0;34m\u001b[0m\u001b[0;34m\u001b[0m\u001b[0;34m\u001b[0m\u001b[0m\n\u001b[0;32m--> 572\u001b[0;31m         \u001b[0mself\u001b[0m\u001b[0;34m.\u001b[0m\u001b[0mresults\u001b[0m \u001b[0;34m=\u001b[0m \u001b[0mbatch\u001b[0m\u001b[0;34m(\u001b[0m\u001b[0;34m)\u001b[0m\u001b[0;34m\u001b[0m\u001b[0;34m\u001b[0m\u001b[0m\n\u001b[0m\u001b[1;32m    573\u001b[0m \u001b[0;34m\u001b[0m\u001b[0m\n\u001b[1;32m    574\u001b[0m     \u001b[0;32mdef\u001b[0m \u001b[0mget\u001b[0m\u001b[0;34m(\u001b[0m\u001b[0mself\u001b[0m\u001b[0;34m)\u001b[0m\u001b[0;34m:\u001b[0m\u001b[0;34m\u001b[0m\u001b[0;34m\u001b[0m\u001b[0m\n",
            "\u001b[0;32m/usr/local/lib/python3.7/dist-packages/joblib/parallel.py\u001b[0m in \u001b[0;36m__call__\u001b[0;34m(self)\u001b[0m\n\u001b[1;32m    261\u001b[0m         \u001b[0;32mwith\u001b[0m \u001b[0mparallel_backend\u001b[0m\u001b[0;34m(\u001b[0m\u001b[0mself\u001b[0m\u001b[0;34m.\u001b[0m\u001b[0m_backend\u001b[0m\u001b[0;34m,\u001b[0m \u001b[0mn_jobs\u001b[0m\u001b[0;34m=\u001b[0m\u001b[0mself\u001b[0m\u001b[0;34m.\u001b[0m\u001b[0m_n_jobs\u001b[0m\u001b[0;34m)\u001b[0m\u001b[0;34m:\u001b[0m\u001b[0;34m\u001b[0m\u001b[0;34m\u001b[0m\u001b[0m\n\u001b[1;32m    262\u001b[0m             return [func(*args, **kwargs)\n\u001b[0;32m--> 263\u001b[0;31m                     for func, args, kwargs in self.items]\n\u001b[0m\u001b[1;32m    264\u001b[0m \u001b[0;34m\u001b[0m\u001b[0m\n\u001b[1;32m    265\u001b[0m     \u001b[0;32mdef\u001b[0m \u001b[0m__reduce__\u001b[0m\u001b[0;34m(\u001b[0m\u001b[0mself\u001b[0m\u001b[0;34m)\u001b[0m\u001b[0;34m:\u001b[0m\u001b[0;34m\u001b[0m\u001b[0;34m\u001b[0m\u001b[0m\n",
            "\u001b[0;32m/usr/local/lib/python3.7/dist-packages/joblib/parallel.py\u001b[0m in \u001b[0;36m<listcomp>\u001b[0;34m(.0)\u001b[0m\n\u001b[1;32m    261\u001b[0m         \u001b[0;32mwith\u001b[0m \u001b[0mparallel_backend\u001b[0m\u001b[0;34m(\u001b[0m\u001b[0mself\u001b[0m\u001b[0;34m.\u001b[0m\u001b[0m_backend\u001b[0m\u001b[0;34m,\u001b[0m \u001b[0mn_jobs\u001b[0m\u001b[0;34m=\u001b[0m\u001b[0mself\u001b[0m\u001b[0;34m.\u001b[0m\u001b[0m_n_jobs\u001b[0m\u001b[0;34m)\u001b[0m\u001b[0;34m:\u001b[0m\u001b[0;34m\u001b[0m\u001b[0;34m\u001b[0m\u001b[0m\n\u001b[1;32m    262\u001b[0m             return [func(*args, **kwargs)\n\u001b[0;32m--> 263\u001b[0;31m                     for func, args, kwargs in self.items]\n\u001b[0m\u001b[1;32m    264\u001b[0m \u001b[0;34m\u001b[0m\u001b[0m\n\u001b[1;32m    265\u001b[0m     \u001b[0;32mdef\u001b[0m \u001b[0m__reduce__\u001b[0m\u001b[0;34m(\u001b[0m\u001b[0mself\u001b[0m\u001b[0;34m)\u001b[0m\u001b[0;34m:\u001b[0m\u001b[0;34m\u001b[0m\u001b[0;34m\u001b[0m\u001b[0m\n",
            "\u001b[0;32m/usr/local/lib/python3.7/dist-packages/sklearn/ensemble/_forest.py\u001b[0m in \u001b[0;36m_accumulate_prediction\u001b[0;34m(predict, X, out, lock)\u001b[0m\n\u001b[1;32m    447\u001b[0m     \u001b[0mcomplains\u001b[0m \u001b[0mthat\u001b[0m \u001b[0mit\u001b[0m \u001b[0mcannot\u001b[0m \u001b[0mpickle\u001b[0m \u001b[0mit\u001b[0m \u001b[0mwhen\u001b[0m \u001b[0mplaced\u001b[0m \u001b[0mthere\u001b[0m\u001b[0;34m.\u001b[0m\u001b[0;34m\u001b[0m\u001b[0;34m\u001b[0m\u001b[0m\n\u001b[1;32m    448\u001b[0m     \"\"\"\n\u001b[0;32m--> 449\u001b[0;31m     \u001b[0mprediction\u001b[0m \u001b[0;34m=\u001b[0m \u001b[0mpredict\u001b[0m\u001b[0;34m(\u001b[0m\u001b[0mX\u001b[0m\u001b[0;34m,\u001b[0m \u001b[0mcheck_input\u001b[0m\u001b[0;34m=\u001b[0m\u001b[0;32mFalse\u001b[0m\u001b[0;34m)\u001b[0m\u001b[0;34m\u001b[0m\u001b[0;34m\u001b[0m\u001b[0m\n\u001b[0m\u001b[1;32m    450\u001b[0m     \u001b[0;32mwith\u001b[0m \u001b[0mlock\u001b[0m\u001b[0;34m:\u001b[0m\u001b[0;34m\u001b[0m\u001b[0;34m\u001b[0m\u001b[0m\n\u001b[1;32m    451\u001b[0m         \u001b[0;32mif\u001b[0m \u001b[0mlen\u001b[0m\u001b[0;34m(\u001b[0m\u001b[0mout\u001b[0m\u001b[0;34m)\u001b[0m \u001b[0;34m==\u001b[0m \u001b[0;36m1\u001b[0m\u001b[0;34m:\u001b[0m\u001b[0;34m\u001b[0m\u001b[0;34m\u001b[0m\u001b[0m\n",
            "\u001b[0;32m/usr/local/lib/python3.7/dist-packages/sklearn/tree/_classes.py\u001b[0m in \u001b[0;36mpredict_proba\u001b[0;34m(self, X, check_input)\u001b[0m\n\u001b[1;32m    904\u001b[0m         \u001b[0mcheck_is_fitted\u001b[0m\u001b[0;34m(\u001b[0m\u001b[0mself\u001b[0m\u001b[0;34m)\u001b[0m\u001b[0;34m\u001b[0m\u001b[0;34m\u001b[0m\u001b[0m\n\u001b[1;32m    905\u001b[0m         \u001b[0mX\u001b[0m \u001b[0;34m=\u001b[0m \u001b[0mself\u001b[0m\u001b[0;34m.\u001b[0m\u001b[0m_validate_X_predict\u001b[0m\u001b[0;34m(\u001b[0m\u001b[0mX\u001b[0m\u001b[0;34m,\u001b[0m \u001b[0mcheck_input\u001b[0m\u001b[0;34m)\u001b[0m\u001b[0;34m\u001b[0m\u001b[0;34m\u001b[0m\u001b[0m\n\u001b[0;32m--> 906\u001b[0;31m         \u001b[0mproba\u001b[0m \u001b[0;34m=\u001b[0m \u001b[0mself\u001b[0m\u001b[0;34m.\u001b[0m\u001b[0mtree_\u001b[0m\u001b[0;34m.\u001b[0m\u001b[0mpredict\u001b[0m\u001b[0;34m(\u001b[0m\u001b[0mX\u001b[0m\u001b[0;34m)\u001b[0m\u001b[0;34m\u001b[0m\u001b[0;34m\u001b[0m\u001b[0m\n\u001b[0m\u001b[1;32m    907\u001b[0m \u001b[0;34m\u001b[0m\u001b[0m\n\u001b[1;32m    908\u001b[0m         \u001b[0;32mif\u001b[0m \u001b[0mself\u001b[0m\u001b[0;34m.\u001b[0m\u001b[0mn_outputs_\u001b[0m \u001b[0;34m==\u001b[0m \u001b[0;36m1\u001b[0m\u001b[0;34m:\u001b[0m\u001b[0;34m\u001b[0m\u001b[0;34m\u001b[0m\u001b[0m\n",
            "\u001b[0;31mKeyboardInterrupt\u001b[0m: "
          ]
        }
      ]
    },
    {
      "cell_type": "code",
      "metadata": {
        "colab": {
          "base_uri": "https://localhost:8080/",
          "height": 957
        },
        "id": "T4nYf5PtkW1r",
        "outputId": "39f95c3e-efd2-4c6c-d38b-d57971886ccf"
      },
      "source": [
        "import matplotlib.pyplot as plt\n",
        "x=x[:len(F)]\n",
        "#plt.plot(x,AUC)\n",
        "#plt.title('AUC Score')\n",
        "#plt.ylabel('Auc')\n",
        "#plt.xlabel('Parameters')\n",
        "#plt.show()\n",
        "plt.plot(x,F)\n",
        "plt.title('F1 Score')\n",
        "plt.ylabel('F1')\n",
        "plt.xlabel('Parameters')\n",
        "plt.show()\n",
        "plt.plot(x,train_acc)\n",
        "plt.title('Train accuracy')\n",
        "plt.ylabel('Acc')\n",
        "plt.xlabel('Parameters')\n",
        "plt.show()\n",
        "plt.plot(x,val_acc)\n",
        "plt.title('Validation Accuracy')\n",
        "plt.ylabel('Acc')\n",
        "plt.xlabel('Parameters')\n",
        "plt.show()\n",
        "\n",
        "print(\"Maximum Training Acc : \"+str(max(train_acc)))\n",
        "print(x[train_acc.index(max(train_acc))])\n",
        "\n",
        "print(\"Maximum Validation Acc : \"+str(max(val_acc)))\n",
        "print(x[val_acc.index(max(val_acc))])\n",
        "\n",
        "print(\"Maximum F1 Score : \"+str(max(F)))\n",
        "print(x[F.index(max(F))])"
      ],
      "execution_count": 155,
      "outputs": [
        {
          "output_type": "display_data",
          "data": {
            "image/png": "[encoded data removed]",
            "text/plain": [
              "<Figure size 432x288 with 1 Axes>"
            ]
          },
          "metadata": {
            "tags": [],
            "needs_background": "light"
          }
        },
        {
          "output_type": "display_data",
          "data": {
            "image/png": "[encoded data removed]",
            "text/plain": [
              "<Figure size 432x288 with 1 Axes>"
            ]
          },
          "metadata": {
            "tags": [],
            "needs_background": "light"
          }
        },
        {
          "output_type": "display_data",
          "data": {
            "image/png": "[encoded data removed]",
            "text/plain": [
              "<Figure size 432x288 with 1 Axes>"
            ]
          },
          "metadata": {
            "tags": [],
            "needs_background": "light"
          }
        },
        {
          "output_type": "stream",
          "text": [
            "Maximum Training Acc : 0.9538018695850433\n",
            "35\n",
            "Maximum Validation Acc : 0.9379158710871955\n",
            "24\n",
            "Maximum F1 Score : 0.5771270290863194\n",
            "29\n"
          ],
          "name": "stdout"
        }
      ]
    },
    {
      "cell_type": "markdown",
      "metadata": {
        "id": "Y2FHQ8Do-IOA"
      },
      "source": [
        "#Prediction of Cross sell"
      ]
    },
    {
      "cell_type": "code",
      "metadata": {
        "colab": {
          "base_uri": "https://localhost:8080/"
        },
        "id": "TgHPByDBlQ_a",
        "outputId": "101b5391-1809-42b1-84d6-585397ef5123"
      },
      "source": [
        "y_predict_2= model.predict_proba(test_data)\n",
        "\n",
        "y_predict_2"
      ],
      "execution_count": 81,
      "outputs": [
        {
          "output_type": "execute_result",
          "data": {
            "text/plain": [
              "array([[0.89745947, 0.10254053],\n",
              "       [0.6612403 , 0.3387597 ],\n",
              "       [0.29446748, 0.70553252],\n",
              "       ...,\n",
              "       [0.72575625, 0.27424375],\n",
              "       [0.76049392, 0.23950608],\n",
              "       [0.74632769, 0.25367231]])"
            ]
          },
          "metadata": {
            "tags": []
          },
          "execution_count": 81
        }
      ]
    },
    {
      "cell_type": "code",
      "metadata": {
        "colab": {
          "base_uri": "https://localhost:8080/"
        },
        "id": "lykXLcw-_qNQ",
        "outputId": "6506d19c-7dfd-473a-9325-f927c62e64ca"
      },
      "source": [
        "y_predict_2 = y_predict_2[:,1]\n",
        "y_predict_2"
      ],
      "execution_count": 82,
      "outputs": [
        {
          "output_type": "execute_result",
          "data": {
            "text/plain": [
              "array([0.10254053, 0.3387597 , 0.70553252, ..., 0.27424375, 0.23950608,\n",
              "       0.25367231])"
            ]
          },
          "metadata": {
            "tags": []
          },
          "execution_count": 82
        }
      ]
    },
    {
      "cell_type": "code",
      "metadata": {
        "colab": {
          "base_uri": "https://localhost:8080/"
        },
        "id": "y8LAtyzo4AS3",
        "outputId": "0a8c4ab8-ed15-4ffb-a830-a53d6f580c36"
      },
      "source": [
        "test_data = pd.read_csv('test_data_jan_jun_20.csv')\n",
        "test_2 = test_data['client_code']\n",
        "test_2 = test_2.tolist()\n",
        "y_predict_3 = []\n",
        "for i in test_3:\n",
        "  if i in test_2:\n",
        "    ind = test_2.index(i)\n",
        "    y_predict_3.append(y_predict_2[ind])\n",
        "  else:\n",
        "    y_predict_3.append(0)\n",
        "print(len(test_3))\n",
        "print(len(y_predict_3))"
      ],
      "execution_count": 83,
      "outputs": [
        {
          "output_type": "stream",
          "text": [
            "19142\n",
            "19142\n"
          ],
          "name": "stdout"
        }
      ]
    },
    {
      "cell_type": "code",
      "metadata": {
        "colab": {
          "base_uri": "https://localhost:8080/",
          "height": 406
        },
        "id": "AF0UopPkQtGk",
        "outputId": "95f33c1c-62e6-41be-d4ea-4695824011f3"
      },
      "source": [
        "y_predict_3=pd.DataFrame(y_predict_3,columns=['probability_of_cross sell'] )\n",
        "y_predict_3"
      ],
      "execution_count": 84,
      "outputs": [
        {
          "output_type": "execute_result",
          "data": {
            "text/html": [
              "<div>\n",
              "<style scoped>\n",
              "    .dataframe tbody tr th:only-of-type {\n",
              "        vertical-align: middle;\n",
              "    }\n",
              "\n",
              "    .dataframe tbody tr th {\n",
              "        vertical-align: top;\n",
              "    }\n",
              "\n",
              "    .dataframe thead th {\n",
              "        text-align: right;\n",
              "    }\n",
              "</style>\n",
              "<table border=\"1\" class=\"dataframe\">\n",
              "  <thead>\n",
              "    <tr style=\"text-align: right;\">\n",
              "      <th></th>\n",
              "      <th>probability_of_cross sell</th>\n",
              "    </tr>\n",
              "  </thead>\n",
              "  <tbody>\n",
              "    <tr>\n",
              "      <th>0</th>\n",
              "      <td>0.199696</td>\n",
              "    </tr>\n",
              "    <tr>\n",
              "      <th>1</th>\n",
              "      <td>0.251729</td>\n",
              "    </tr>\n",
              "    <tr>\n",
              "      <th>2</th>\n",
              "      <td>0.074281</td>\n",
              "    </tr>\n",
              "    <tr>\n",
              "      <th>3</th>\n",
              "      <td>0.110502</td>\n",
              "    </tr>\n",
              "    <tr>\n",
              "      <th>4</th>\n",
              "      <td>0.170813</td>\n",
              "    </tr>\n",
              "    <tr>\n",
              "      <th>...</th>\n",
              "      <td>...</td>\n",
              "    </tr>\n",
              "    <tr>\n",
              "      <th>19137</th>\n",
              "      <td>0.008079</td>\n",
              "    </tr>\n",
              "    <tr>\n",
              "      <th>19138</th>\n",
              "      <td>0.252875</td>\n",
              "    </tr>\n",
              "    <tr>\n",
              "      <th>19139</th>\n",
              "      <td>0.274244</td>\n",
              "    </tr>\n",
              "    <tr>\n",
              "      <th>19140</th>\n",
              "      <td>0.239506</td>\n",
              "    </tr>\n",
              "    <tr>\n",
              "      <th>19141</th>\n",
              "      <td>0.253672</td>\n",
              "    </tr>\n",
              "  </tbody>\n",
              "</table>\n",
              "<p>19142 rows × 1 columns</p>\n",
              "</div>"
            ],
            "text/plain": [
              "       probability_of_cross sell\n",
              "0                       0.199696\n",
              "1                       0.251729\n",
              "2                       0.074281\n",
              "3                       0.110502\n",
              "4                       0.170813\n",
              "...                          ...\n",
              "19137                   0.008079\n",
              "19138                   0.252875\n",
              "19139                   0.274244\n",
              "19140                   0.239506\n",
              "19141                   0.253672\n",
              "\n",
              "[19142 rows x 1 columns]"
            ]
          },
          "metadata": {
            "tags": []
          },
          "execution_count": 84
        }
      ]
    },
    {
      "cell_type": "code",
      "metadata": {
        "colab": {
          "base_uri": "https://localhost:8080/",
          "height": 197
        },
        "id": "52bWVSSXSEj3",
        "outputId": "8124eea0-1a19-4c89-e4ab-1f51869b245a"
      },
      "source": [
        "test = pd.concat([test, y_predict_3],axis=1)\n",
        "test.head()"
      ],
      "execution_count": 85,
      "outputs": [
        {
          "output_type": "execute_result",
          "data": {
            "text/html": [
              "<div>\n",
              "<style scoped>\n",
              "    .dataframe tbody tr th:only-of-type {\n",
              "        vertical-align: middle;\n",
              "    }\n",
              "\n",
              "    .dataframe tbody tr th {\n",
              "        vertical-align: top;\n",
              "    }\n",
              "\n",
              "    .dataframe thead th {\n",
              "        text-align: right;\n",
              "    }\n",
              "</style>\n",
              "<table border=\"1\" class=\"dataframe\">\n",
              "  <thead>\n",
              "    <tr style=\"text-align: right;\">\n",
              "      <th></th>\n",
              "      <th>map_client_cd</th>\n",
              "      <th>probability_of_cross sell</th>\n",
              "    </tr>\n",
              "  </thead>\n",
              "  <tbody>\n",
              "    <tr>\n",
              "      <th>0</th>\n",
              "      <td>C100003</td>\n",
              "      <td>0.199696</td>\n",
              "    </tr>\n",
              "    <tr>\n",
              "      <th>1</th>\n",
              "      <td>C100004</td>\n",
              "      <td>0.251729</td>\n",
              "    </tr>\n",
              "    <tr>\n",
              "      <th>2</th>\n",
              "      <td>C100009</td>\n",
              "      <td>0.074281</td>\n",
              "    </tr>\n",
              "    <tr>\n",
              "      <th>3</th>\n",
              "      <td>C100014</td>\n",
              "      <td>0.110502</td>\n",
              "    </tr>\n",
              "    <tr>\n",
              "      <th>4</th>\n",
              "      <td>C100015</td>\n",
              "      <td>0.170813</td>\n",
              "    </tr>\n",
              "  </tbody>\n",
              "</table>\n",
              "</div>"
            ],
            "text/plain": [
              "  map_client_cd  probability_of_cross sell\n",
              "0       C100003                   0.199696\n",
              "1       C100004                   0.251729\n",
              "2       C100009                   0.074281\n",
              "3       C100014                   0.110502\n",
              "4       C100015                   0.170813"
            ]
          },
          "metadata": {
            "tags": []
          },
          "execution_count": 85
        }
      ]
    },
    {
      "cell_type": "code",
      "metadata": {
        "id": "YJHlvr10SaS4"
      },
      "source": [
        "test.to_csv('submission_Wanderers.csv',index=False)"
      ],
      "execution_count": 86,
      "outputs": []
    },
    {
      "cell_type": "code",
      "metadata": {
        "id": "5qXZnp-qWa-l"
      },
      "source": [
        ""
      ],
      "execution_count": null,
      "outputs": []
    },
    {
      "cell_type": "markdown",
      "metadata": {
        "id": "2LKpVFw0HlOs"
      },
      "source": [
        "#Recommendation"
      ]
    },
    {
      "cell_type": "markdown",
      "metadata": {
        "id": "AgZ0fW7qH5Yy"
      },
      "source": [
        "##Label Encoding"
      ]
    },
    {
      "cell_type": "code",
      "metadata": {
        "colab": {
          "base_uri": "https://localhost:8080/"
        },
        "id": "wZO0OVJzHm-E",
        "outputId": "7fc9d173-43ff-4000-ad00-155a41eb7c25"
      },
      "source": [
        "from sklearn import preprocessing\n",
        "le = preprocessing.LabelEncoder()\n",
        "le.fit(train_recom)\n",
        "print(le.classes_)\n",
        "train_recom=le.transform(train_recom)\n",
        "\n",
        "#le.fit(val_recom)\n",
        "#print(le.classes_)\n",
        "val_recom=le.transform(val_recom)"
      ],
      "execution_count": 114,
      "outputs": [
        {
          "output_type": "stream",
          "text": [
            "['HEALTH' 'INVESTMENT' 'No_policy' 'PROTECTION' 'RETIREMENT']\n"
          ],
          "name": "stdout"
        }
      ]
    },
    {
      "cell_type": "code",
      "metadata": {
        "colab": {
          "base_uri": "https://localhost:8080/"
        },
        "id": "0EF7BVrQIzVU",
        "outputId": "f905a77f-390f-4799-86d3-1a8f2414daa8"
      },
      "source": [
        "#Random Forest\n",
        "\n",
        "from sklearn.metrics import roc_auc_score\n",
        "#model = RandomForestClassifier(max_depth=7,max_features=10,n_estimators=75, class_weight = 'balanced' )\n",
        "model_2 = RandomForestClassifier(max_depth = 15, n_estimators = 115, class_weight = 'balanced', random_state = 39  )\n",
        "model_2.fit(train_data,train_recom)       \n",
        "y_predict=model_2.predict(val_data)\n",
        "print(\"Train accuracy : \"+str(model_2.score(train_data,train_recom)))\n",
        "print(\"Validation accuracy : \"+str(model_2.score(val_data,val_recom)))\n",
        "print(\"Precision : \"+str(precision_score(val_recom,y_predict,average='macro', zero_division=0)))\n",
        "print(\"Recall : \"+str(recall_score(val_recom,y_predict,average='macro', zero_division=0)))\n",
        "print(\"F1-Score : \"+str(f1_score(val_recom,y_predict,average='macro', zero_division=0)))\n",
        "print(\"Classification Report\")\n",
        "print(classification_report(val_recom,y_predict,zero_division=0))\n",
        "print(\"Confusion Matrix\")\n",
        "print(confusion_matrix(val_recom,y_predict))\n",
        "#print(roc_auc_score(val_recom,y_predict, multi_class =  'ovo'))\n",
        "#fig, ax = plt.subplots()\n",
        "#plot_confusion_matrix(val_label, y_predict, ax=ax)\n",
        "\n",
        "\n",
        "#neptune.log_metric('Training Accuracy', model.score(train_data,train_label))\n",
        "#neptune.log_metric('Validation Accuracy', model.score(val_data,val_label))\n",
        "#neptune.log_metric('Precision',precision_score(val_label,y_predict,average='macro', zero_division=0))\n",
        "#neptune.log_metric('Recall', recall_score(val_label,y_predict,average='macro', zero_division=0))\n",
        "#neptune.log_metric('F1-Score',f1_score(val_label,y_predict,average='macro', zero_division=0))"
      ],
      "execution_count": 117,
      "outputs": [
        {
          "output_type": "stream",
          "text": [
            "Train accuracy : 0.9594733242134063\n",
            "Validation accuracy : 0.9371058265347452\n",
            "Precision : 0.27862107380609713\n",
            "Recall : 0.29503772655980687\n",
            "F1-Score : 0.2826562068610149\n",
            "Classification Report\n",
            "              precision    recall  f1-score   support\n",
            "\n",
            "           0       0.10      0.19      0.13       261\n",
            "           1       0.04      0.03      0.03       226\n",
            "           2       0.97      0.96      0.97     16777\n",
            "           4       0.00      0.00      0.00        19\n",
            "\n",
            "    accuracy                           0.94     17283\n",
            "   macro avg       0.28      0.30      0.28     17283\n",
            "weighted avg       0.95      0.94      0.94     17283\n",
            "\n",
            "Confusion Matrix\n",
            "[[   50     7   204     0]\n",
            " [   22     6   198     0]\n",
            " [  433   131 16140    73]\n",
            " [    4     1    14     0]]\n"
          ],
          "name": "stdout"
        }
      ]
    },
    {
      "cell_type": "code",
      "metadata": {
        "colab": {
          "base_uri": "https://localhost:8080/",
          "height": 752
        },
        "id": "FlNGQTMLJL1w",
        "outputId": "91de6b8c-5907-4a74-b29e-c6616ae71743"
      },
      "source": [
        "# Plot non-normalized confusion matrix\n",
        "titles_options = [(\"Confusion matrix, without normalization\", None),\n",
        "                  (\"Normalized confusion matrix\", 'true')]\n",
        "class_names = ['HEALTH', 'INVESTMENT' ,'No_policy', 'PROTECTION', 'RETIREMENT']\n",
        "for title, normalize in titles_options:\n",
        "    disp = plot_confusion_matrix(model_2, val_data, val_recom,\n",
        "                                 display_labels=class_names,\n",
        "                                 cmap=plt.cm.Blues,\n",
        "                                 normalize=normalize)\n",
        "    disp.ax_.set_title(title)\n",
        "\n",
        "    print(title)\n",
        "    print(disp.confusion_matrix)"
      ],
      "execution_count": 121,
      "outputs": [
        {
          "output_type": "stream",
          "text": [
            "Confusion matrix, without normalization\n",
            "[[   50     7   204     0]\n",
            " [   22     6   198     0]\n",
            " [  433   131 16140    73]\n",
            " [    4     1    14     0]]\n",
            "Normalized confusion matrix\n",
            "[[0.19157088 0.02681992 0.7816092  0.        ]\n",
            " [0.09734513 0.02654867 0.87610619 0.        ]\n",
            " [0.02580914 0.00780831 0.96203135 0.0043512 ]\n",
            " [0.21052632 0.05263158 0.73684211 0.        ]]\n"
          ],
          "name": "stdout"
        },
        {
          "output_type": "display_data",
          "data": {
            "image/png": "[encoded data removed]",
            "text/plain": [
              "<Figure size 432x288 with 2 Axes>"
            ]
          },
          "metadata": {
            "tags": [],
            "needs_background": "light"
          }
        },
        {
          "output_type": "display_data",
          "data": {
            "image/png": "[encoded data removed]",
            "text/plain": [
              "<Figure size 432x288 with 2 Axes>"
            ]
          },
          "metadata": {
            "tags": [],
            "needs_background": "light"
          }
        }
      ]
    },
    {
      "cell_type": "code",
      "metadata": {
        "colab": {
          "base_uri": "https://localhost:8080/",
          "height": 718
        },
        "id": "Xh9YsD7SJMtm",
        "outputId": "8ec73943-ef3a-4a67-9017-94dbd33ddd08"
      },
      "source": [
        "#Feature Importance in Random Forest\n",
        "print(\"Feature Importance\")\n",
        "print(model.feature_importances_) #use inbuilt class feature_importances of tree based classifiers\n",
        "#plot graph of feature importances for better visualization\n",
        "plt.figure(figsize=[10,10])\n",
        "feat_importances = pd.Series(model_2.feature_importances_, index=train_data.columns)\n",
        "feat_importances.nlargest(40).plot(kind='barh')\n",
        "\n",
        "plt.show()\n",
        "#print(feat_importances)\n",
        "results=pd.DataFrame()\n",
        "results['columns']=train_data.columns\n",
        "results['importances'] = model_2.feature_importances_\n",
        "results.sort_values(by='importances',ascending=False,inplace=True)\n",
        "\n",
        "results[:30]\n",
        "selected_features = results['columns'][:20].tolist()\n",
        "print(selected_features)"
      ],
      "execution_count": 119,
      "outputs": [
        {
          "output_type": "stream",
          "text": [
            "Feature Importance\n",
            "[0.10298084 0.01234239 0.01499221 0.01259209 0.01253874 0.01543847\n",
            " 0.01682577 0.00192068 0.12013915 0.12107548 0.         0.06675741\n",
            " 0.06358962 0.         0.04451793 0.02529046 0.1581407  0.18944334\n",
            " 0.00634311 0.01507161]\n"
          ],
          "name": "stdout"
        },
        {
          "output_type": "display_data",
          "data": {
            "image/png": "[encoded data removed]",
            "text/plain": [
              "<Figure size 720x720 with 1 Axes>"
            ]
          },
          "metadata": {
            "tags": [],
            "needs_background": "light"
          }
        },
        {
          "output_type": "stream",
          "text": [
            "['premium_value', 'total_sum_assuared', 'policy_term_avg', 'inforce_count', 'Pay_mode_S', 'lapse_count', 'lap_inf_ratio', 'num_policies', 'Pay_mode_M', 'Pay_mode_Y', 'num_agents', 'main_smoker', 'payment_method_CHEQUE', 'Pay_mode_Q', 'ter_inf_ratio', 'Pay_mode_H', 'payment_method_CASH', 'spouse_smoker', 'num_children', 'terminate_count']\n"
          ],
          "name": "stdout"
        }
      ]
    },
    {
      "cell_type": "code",
      "metadata": {
        "colab": {
          "base_uri": "https://localhost:8080/"
        },
        "id": "AWTA-N0cKDgM",
        "outputId": "71aba87d-50c6-4122-f84d-a9b2841a972f"
      },
      "source": [
        "recom_predict = model_2.predict(test_data)\n",
        "recom_predict"
      ],
      "execution_count": 122,
      "outputs": [
        {
          "output_type": "execute_result",
          "data": {
            "text/plain": [
              "array([2, 2, 0, ..., 2, 2, 2])"
            ]
          },
          "metadata": {
            "tags": []
          },
          "execution_count": 122
        }
      ]
    },
    {
      "cell_type": "code",
      "metadata": {
        "colab": {
          "base_uri": "https://localhost:8080/"
        },
        "id": "SDACpEPdKdpB",
        "outputId": "14c58cdb-1a8f-481b-c204-b0313e38a423"
      },
      "source": [
        "recom_predict =le.inverse_transform(recom_predict)\n",
        "recom_predict"
      ],
      "execution_count": 123,
      "outputs": [
        {
          "output_type": "execute_result",
          "data": {
            "text/plain": [
              "array(['No_policy', 'No_policy', 'HEALTH', ..., 'No_policy', 'No_policy',\n",
              "       'No_policy'], dtype=object)"
            ]
          },
          "metadata": {
            "tags": []
          },
          "execution_count": 123
        }
      ]
    },
    {
      "cell_type": "code",
      "metadata": {
        "colab": {
          "base_uri": "https://localhost:8080/"
        },
        "id": "5mOuTlKGKsbq",
        "outputId": "623a9498-41b1-4a45-cf5a-5a2e5a4dd15b"
      },
      "source": [
        "test_data = pd.read_csv('test_data_jan_jun_20.csv')\n",
        "test_2 = test_data['client_code']\n",
        "test_2 = test_2.tolist()\n",
        "recom_predict_3 = []\n",
        "for i in test_3:\n",
        "  if i in test_2:\n",
        "    ind = test_2.index(i)\n",
        "    recom_predict_3.append(recom_predict[ind])\n",
        "  else:\n",
        "    recom_predict_3.append('No_policy')\n",
        "print(len(test_3))\n",
        "print(len(recom_predict_3))"
      ],
      "execution_count": 125,
      "outputs": [
        {
          "output_type": "stream",
          "text": [
            "19142\n",
            "19142\n"
          ],
          "name": "stdout"
        }
      ]
    },
    {
      "cell_type": "code",
      "metadata": {
        "colab": {
          "base_uri": "https://localhost:8080/",
          "height": 197
        },
        "id": "TDFOcsFNLPFP",
        "outputId": "b46ea641-2854-4030-8bc0-701782e3c1a4"
      },
      "source": [
        "recom_predict_3=pd.DataFrame(recom_predict_3,columns=['recommendation'] )\n",
        "recom_predict_3.head()"
      ],
      "execution_count": 126,
      "outputs": [
        {
          "output_type": "execute_result",
          "data": {
            "text/html": [
              "<div>\n",
              "<style scoped>\n",
              "    .dataframe tbody tr th:only-of-type {\n",
              "        vertical-align: middle;\n",
              "    }\n",
              "\n",
              "    .dataframe tbody tr th {\n",
              "        vertical-align: top;\n",
              "    }\n",
              "\n",
              "    .dataframe thead th {\n",
              "        text-align: right;\n",
              "    }\n",
              "</style>\n",
              "<table border=\"1\" class=\"dataframe\">\n",
              "  <thead>\n",
              "    <tr style=\"text-align: right;\">\n",
              "      <th></th>\n",
              "      <th>recommendation</th>\n",
              "    </tr>\n",
              "  </thead>\n",
              "  <tbody>\n",
              "    <tr>\n",
              "      <th>0</th>\n",
              "      <td>No_policy</td>\n",
              "    </tr>\n",
              "    <tr>\n",
              "      <th>1</th>\n",
              "      <td>No_policy</td>\n",
              "    </tr>\n",
              "    <tr>\n",
              "      <th>2</th>\n",
              "      <td>No_policy</td>\n",
              "    </tr>\n",
              "    <tr>\n",
              "      <th>3</th>\n",
              "      <td>No_policy</td>\n",
              "    </tr>\n",
              "    <tr>\n",
              "      <th>4</th>\n",
              "      <td>No_policy</td>\n",
              "    </tr>\n",
              "  </tbody>\n",
              "</table>\n",
              "</div>"
            ],
            "text/plain": [
              "  recommendation\n",
              "0      No_policy\n",
              "1      No_policy\n",
              "2      No_policy\n",
              "3      No_policy\n",
              "4      No_policy"
            ]
          },
          "metadata": {
            "tags": []
          },
          "execution_count": 126
        }
      ]
    },
    {
      "cell_type": "code",
      "metadata": {
        "colab": {
          "base_uri": "https://localhost:8080/",
          "height": 197
        },
        "id": "it1uQVnXLkxk",
        "outputId": "bd226663-b212-4f9a-d503-1a5c1c8c342d"
      },
      "source": [
        "test_2 = pd.concat([test, recom_predict_3],axis=1)\n",
        "test_2.head()"
      ],
      "execution_count": 127,
      "outputs": [
        {
          "output_type": "execute_result",
          "data": {
            "text/html": [
              "<div>\n",
              "<style scoped>\n",
              "    .dataframe tbody tr th:only-of-type {\n",
              "        vertical-align: middle;\n",
              "    }\n",
              "\n",
              "    .dataframe tbody tr th {\n",
              "        vertical-align: top;\n",
              "    }\n",
              "\n",
              "    .dataframe thead th {\n",
              "        text-align: right;\n",
              "    }\n",
              "</style>\n",
              "<table border=\"1\" class=\"dataframe\">\n",
              "  <thead>\n",
              "    <tr style=\"text-align: right;\">\n",
              "      <th></th>\n",
              "      <th>map_client_cd</th>\n",
              "      <th>recommendation</th>\n",
              "    </tr>\n",
              "  </thead>\n",
              "  <tbody>\n",
              "    <tr>\n",
              "      <th>0</th>\n",
              "      <td>C100003</td>\n",
              "      <td>No_policy</td>\n",
              "    </tr>\n",
              "    <tr>\n",
              "      <th>1</th>\n",
              "      <td>C100004</td>\n",
              "      <td>No_policy</td>\n",
              "    </tr>\n",
              "    <tr>\n",
              "      <th>2</th>\n",
              "      <td>C100009</td>\n",
              "      <td>No_policy</td>\n",
              "    </tr>\n",
              "    <tr>\n",
              "      <th>3</th>\n",
              "      <td>C100014</td>\n",
              "      <td>No_policy</td>\n",
              "    </tr>\n",
              "    <tr>\n",
              "      <th>4</th>\n",
              "      <td>C100015</td>\n",
              "      <td>No_policy</td>\n",
              "    </tr>\n",
              "  </tbody>\n",
              "</table>\n",
              "</div>"
            ],
            "text/plain": [
              "  map_client_cd recommendation\n",
              "0       C100003      No_policy\n",
              "1       C100004      No_policy\n",
              "2       C100009      No_policy\n",
              "3       C100014      No_policy\n",
              "4       C100015      No_policy"
            ]
          },
          "metadata": {
            "tags": []
          },
          "execution_count": 127
        }
      ]
    },
    {
      "cell_type": "code",
      "metadata": {
        "id": "6wzp-F_ILxlE"
      },
      "source": [
        "test.to_csv('submission_Wanderers_(with recommendation).csv',index=False)"
      ],
      "execution_count": null,
      "outputs": []
    }
  ]
}